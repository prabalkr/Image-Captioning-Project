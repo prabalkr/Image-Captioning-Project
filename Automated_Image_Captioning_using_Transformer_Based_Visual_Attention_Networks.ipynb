{
  "cells": [
    {
      "cell_type": "markdown",
      "metadata": {
        "id": "EFwSaNB8jF7s"
      },
      "source": [
        "<style>\n",
        "td {\n",
        "  text-align: center;\n",
        "}\n",
        "\n",
        "th {\n",
        "  text-align: center;\n",
        "}\n",
        "</style>"
      ]
    },
    {
      "cell_type": "markdown",
      "metadata": {
        "id": "Cffg2i257iMS"
      },
      "source": [
        "# Image captioning with visual attention\n",
        "\n",
        "\n"
      ]
    },
    {
      "cell_type": "markdown",
      "metadata": {
        "id": "QASbY_HGo4Lq"
      },
      "source": [
        "Given an image like the example below, our goal is to generate a\n",
        "caption such as \"a surfer riding on a wave\".\n",
        "\n",
        "<table style=\"text-align: center;\">\n",
        "<tr>\n",
        "  <td>\n",
        "   \n",
        "  </td>\n",
        "</tr>\n",
        "<tr>\n",
        "    <td>\n",
        "   <img src=\"https://tensorflow.org/images/surf.jpg\"/>\n",
        "  </td>\n",
        "</tr>\n",
        "</table>\n",
        "\n",
        "The model architecture used here is inspired by [Show, Attend and Tell: Neural Image Caption Generation with Visual Attention](https://arxiv.org/abs/1502.03044), but has been updated to use a 2-layer Transformer-decoder."
      ]
    },
    {
      "cell_type": "markdown",
      "metadata": {
        "id": "6HbD8n0w7d3F"
      },
      "source": [
        "The model architecture built in this tutorial is shown below. Features are extracted from the image, and passed to the cross-attention layers of the Transformer-decoder.\n",
        "\n",
        "<table>\n",
        "<tr>\n",
        "  <th>The model architecture</th>\n",
        "</tr>\n",
        "<tr>\n",
        "  <td>\n",
        "   <img width=400 src=\"https://tensorflow.org/images/tutorials/transformer/ImageCaptioning.png\"/>\n",
        "  </td>\n",
        "</tr>\n",
        "</table>"
      ]
    },
    {
      "cell_type": "markdown",
      "metadata": {
        "id": "1IxifZKT6vXQ"
      },
      "source": [
        "The transformer decoder is mainly built from attention layers. It uses self-attention to process the sequence being generated, and it uses cross-attention to attend to the image.\n",
        "\n",
        "By inspecting the attention weights of the cross attention layers you will see what parts of the image the model is looking at as it generates words.\n",
        "\n",
        "![Prediction](https://tensorflow.org/images/imcap_prediction.png)\n",
        "\n",
        "\n",
        "\n",
        "\n",
        "\n",
        "---\n",
        "\n",
        "**Title:**\n",
        "\n",
        "**“Automated Image Captioning using Transformer-Based Visual Attention Networks”**\n",
        "\n",
        "---\n",
        "\n",
        "### Abstract:\n",
        "\n",
        "This project presents an automated image captioning system utilizing a Transformer-based architecture for generating accurate and meaningful descriptions of images. Building on the foundational \"Show, Attend, and Tell\" methodology, this model introduces improvements by using a two-layer Transformer-decoder architecture that dynamically attends to different parts of an image while constructing captions. The model has been trained using an image-caption dataset, leveraging state-of-the-art deep learning techniques. The results demonstrate the model's capacity to generate context-aware captions that align with the visual content of images.\n",
        "\n",
        "---\n",
        "\n",
        "### 1. Introduction:\n",
        "\n",
        "Image captioning is an advanced task in computer vision that aims to generate descriptive captions for images. It is a multimodal problem combining natural language processing (NLP) and computer vision. This project implements an improved version of the \"Show, Attend, and Tell\" model, incorporating a Transformer-based architecture. The task of image captioning has numerous applications, from aiding visually impaired individuals to enhancing image search engines and archiving.\n",
        "\n",
        "**Objective:** The goal of this project is to develop a model that generates meaningful captions by attending to important regions in an image and converting those visual cues into natural language descriptions.\n",
        "\n",
        "**Motivation:** Existing methods, such as RNN-based image captioning, have limitations in generating longer and contextually coherent captions. Transformer architectures, by incorporating self-attention mechanisms, can overcome these limitations, making them a powerful tool for image captioning.\n",
        "\n",
        "---\n",
        "\n",
        "### 2. Dataset:\n",
        "\n",
        "The dataset used in this project is a well-known image-captioning dataset that pairs images with corresponding descriptions. The dataset includes a vast range of images, each annotated with one or more descriptive sentences, ensuring diversity and coverage across a wide array of contexts.\n",
        "\n",
        "**Key Dataset Attributes**:\n",
        "- **Images**: The dataset consists of high-resolution images from real-world scenarios (e.g., COCO dataset).\n",
        "- **Captions**: Each image is annotated with one or more human-written captions. These captions serve as the ground truth during the training process.\n",
        "- **Preprocessing**: The images are resized and normalized before being fed into the model. The captions are tokenized and converted into a sequence of embeddings.\n",
        "\n",
        "---\n",
        "\n",
        "### 3. Model Architecture:\n",
        "\n",
        "The project adopts a two-layer Transformer-decoder architecture for generating captions. This architecture includes several components:\n",
        "\n",
        "- **Feature Extraction**: A pre-trained Convolutional Neural Network (CNN) (e.g., ResNet or InceptionNet) is used to extract features from the images. These features serve as the input to the Transformer.\n",
        "  \n",
        "- **Transformer-Decoder**: The core of the model is the Transformer-decoder, which is made up of:\n",
        "  - **Self-Attention Layers**: These layers allow the model to attend to different parts of the generated caption, ensuring that each word is contextually related to the preceding words.\n",
        "  - **Cross-Attention Layers**: These layers allow the model to attend to different regions of the image while generating each word in the caption.\n",
        "  \n",
        "- **Positional Encoding**: Since Transformers do not have a sense of order, positional encodings are added to the input embeddings to introduce the notion of sequence order.\n",
        "\n",
        "**Training Strategy**: The model is trained using a categorical cross-entropy loss, which compares the predicted words with the actual captions. The Adam optimizer is used to minimize the loss.\n",
        "\n",
        "---\n",
        "\n",
        "### 4. Methodology:\n",
        "\n",
        "1. **Data Preprocessing**:\n",
        "   - **Image Preprocessing**: All images are resized to a fixed dimension and normalized to ensure consistency in the input.\n",
        "   - **Caption Tokenization**: Captions are tokenized into words, and each word is converted into an embedding using pre-trained word embeddings.\n",
        "   \n",
        "2. **Feature Extraction**:\n",
        "   - A pre-trained CNN (such as ResNet) extracts image features that are passed to the Transformer-decoder.\n",
        "\n",
        "3. **Transformer Decoder**:\n",
        "   - The Transformer-decoder takes the image features as input, alongside the caption embeddings. The self-attention mechanism helps the model understand relationships between words in the sequence, while the cross-attention mechanism attends to different image regions based on the caption generation.\n",
        "\n",
        "4. **Training**:\n",
        "   - The model is trained by passing image-caption pairs through the network. For each image, the model generates a caption word by word, attending to the relevant parts of the image. The loss is computed by comparing the generated captions with the ground-truth captions, and backpropagation is used to update the model's weights.\n",
        "\n",
        "5. **Evaluation**:\n",
        "   - The model’s performance is evaluated using common metrics in image captioning, such as BLEU scores, which measure the overlap between the generated captions and the ground-truth captions.\n",
        "\n",
        "---\n",
        "\n",
        "### 5. Results:\n",
        "\n",
        "The model is capable of generating coherent and context-aware captions that correspond well with the visual content of images. Below are some of the performance metrics used for evaluation:\n",
        "\n",
        "- **BLEU Score**: A measure of how closely the generated captions align with the reference captions.\n",
        "- **Qualitative Results**: In addition to quantitative metrics, the model's output captions are manually reviewed to ensure they make sense in the context of the images. Example outputs show captions like \"a person riding a horse on a beach\" or \"a dog playing with a ball in a park,\" which demonstrate the model's ability to capture key elements of an image.\n",
        "\n",
        "---\n",
        "\n",
        "### 6. Conclusion:\n",
        "\n",
        "This project successfully implements a Transformer-based image captioning model that leverages visual attention mechanisms to generate accurate and meaningful descriptions of images. The use of cross-attention in the Transformer-decoder allows the model to focus on relevant parts of the image while generating captions. Future improvements can include training on larger datasets and using more advanced feature extraction techniques to further enhance caption accuracy.\n",
        "\n",
        "---\n",
        "\n"
      ]
    },
    {
      "cell_type": "markdown",
      "metadata": {
        "id": "5bwwk4uxRz6A"
      },
      "source": [
        "## Setup"
      ]
    },
    {
      "cell_type": "code",
      "execution_count": null,
      "metadata": {
        "colab": {
          "base_uri": "https://localhost:8080/"
        },
        "id": "2R1hQGtZEi8Y",
        "outputId": "09d37b72-2987-42b0-c270-1b2b009c3889"
      },
      "outputs": [
        {
          "name": "stdout",
          "output_type": "stream",
          "text": [
            "Found existing installation: tensorflow 2.17.0\n",
            "Uninstalling tensorflow-2.17.0:\n",
            "  Successfully uninstalled tensorflow-2.17.0\n",
            "\u001b[33mWARNING: Skipping estimator as it is not installed.\u001b[0m\u001b[33m\n",
            "\u001b[0mFound existing installation: keras 3.4.1\n",
            "Uninstalling keras-3.4.1:\n",
            "  Successfully uninstalled keras-3.4.1\n"
          ]
        }
      ],
      "source": [
        "!pip uninstall -y tensorflow estimator keras"
      ]
    },
    {
      "cell_type": "code",
      "execution_count": null,
      "metadata": {
        "colab": {
          "base_uri": "https://localhost:8080/"
        },
        "id": "gc06pTaBbl72",
        "outputId": "fdcf068f-a6a8-40c3-c943-6800cefc04d3"
      },
      "outputs": [
        {
          "name": "stdout",
          "output_type": "stream",
          "text": [
            "\n",
            "Usage:   \n",
            "  pip3 install [options] <requirement specifier> [package-index-options] ...\n",
            "  pip3 install [options] -r <requirements file> [package-index-options] ...\n",
            "  pip3 install [options] [-e] <vcs project url> ...\n",
            "  pip3 install [options] [-e] <local project path> ...\n",
            "  pip3 install [options] <archive url/path> ...\n",
            "\n",
            "no such option: --allow-change-held-packages\n"
          ]
        }
      ],
      "source": [
        "!pip install --allow-change-held-packages libcudnn8=8.6.0.163-1+cuda11.8"
      ]
    },
    {
      "cell_type": "code",
      "execution_count": null,
      "metadata": {
        "colab": {
          "base_uri": "https://localhost:8080/",
          "height": 1000
        },
        "id": "5Xbt8BkPv8Ou",
        "outputId": "0b17386e-6d6c-455e-ef12-afbc02c62926"
      },
      "outputs": [
        {
          "name": "stdout",
          "output_type": "stream",
          "text": [
            "Collecting tensorflow-text==2.10.0\n",
            "  Downloading tensorflow_text-2.10.0-cp310-cp310-manylinux_2_17_x86_64.manylinux2014_x86_64.whl.metadata (2.0 kB)\n",
            "Requirement already satisfied: tensorflow-hub>=0.8.0 in /usr/local/lib/python3.10/dist-packages (from tensorflow-text==2.10.0) (0.16.1)\n",
            "Collecting tensorflow<2.11,>=2.10.0 (from tensorflow-text==2.10.0)\n",
            "  Downloading tensorflow-2.10.1-cp310-cp310-manylinux_2_17_x86_64.manylinux2014_x86_64.whl.metadata (3.1 kB)\n",
            "Requirement already satisfied: absl-py>=1.0.0 in /usr/local/lib/python3.10/dist-packages (from tensorflow<2.11,>=2.10.0->tensorflow-text==2.10.0) (1.4.0)\n",
            "Requirement already satisfied: astunparse>=1.6.0 in /usr/local/lib/python3.10/dist-packages (from tensorflow<2.11,>=2.10.0->tensorflow-text==2.10.0) (1.6.3)\n",
            "Requirement already satisfied: flatbuffers>=2.0 in /usr/local/lib/python3.10/dist-packages (from tensorflow<2.11,>=2.10.0->tensorflow-text==2.10.0) (24.3.25)\n",
            "Collecting gast<=0.4.0,>=0.2.1 (from tensorflow<2.11,>=2.10.0->tensorflow-text==2.10.0)\n",
            "  Downloading gast-0.4.0-py3-none-any.whl.metadata (1.1 kB)\n",
            "Requirement already satisfied: google-pasta>=0.1.1 in /usr/local/lib/python3.10/dist-packages (from tensorflow<2.11,>=2.10.0->tensorflow-text==2.10.0) (0.2.0)\n",
            "Requirement already satisfied: grpcio<2.0,>=1.24.3 in /usr/local/lib/python3.10/dist-packages (from tensorflow<2.11,>=2.10.0->tensorflow-text==2.10.0) (1.64.1)\n",
            "Requirement already satisfied: h5py>=2.9.0 in /usr/local/lib/python3.10/dist-packages (from tensorflow<2.11,>=2.10.0->tensorflow-text==2.10.0) (3.11.0)\n",
            "Collecting keras<2.11,>=2.10.0 (from tensorflow<2.11,>=2.10.0->tensorflow-text==2.10.0)\n",
            "  Downloading keras-2.10.0-py2.py3-none-any.whl.metadata (1.3 kB)\n",
            "Collecting keras-preprocessing>=1.1.1 (from tensorflow<2.11,>=2.10.0->tensorflow-text==2.10.0)\n",
            "  Downloading Keras_Preprocessing-1.1.2-py2.py3-none-any.whl.metadata (1.9 kB)\n",
            "Requirement already satisfied: libclang>=13.0.0 in /usr/local/lib/python3.10/dist-packages (from tensorflow<2.11,>=2.10.0->tensorflow-text==2.10.0) (18.1.1)\n",
            "Requirement already satisfied: numpy>=1.20 in /usr/local/lib/python3.10/dist-packages (from tensorflow<2.11,>=2.10.0->tensorflow-text==2.10.0) (1.26.4)\n",
            "Requirement already satisfied: opt-einsum>=2.3.2 in /usr/local/lib/python3.10/dist-packages (from tensorflow<2.11,>=2.10.0->tensorflow-text==2.10.0) (3.4.0)\n",
            "Requirement already satisfied: packaging in /usr/local/lib/python3.10/dist-packages (from tensorflow<2.11,>=2.10.0->tensorflow-text==2.10.0) (24.1)\n",
            "Collecting protobuf<3.20,>=3.9.2 (from tensorflow<2.11,>=2.10.0->tensorflow-text==2.10.0)\n",
            "  Downloading protobuf-3.19.6-cp310-cp310-manylinux_2_17_x86_64.manylinux2014_x86_64.whl.metadata (787 bytes)\n",
            "Requirement already satisfied: setuptools in /usr/local/lib/python3.10/dist-packages (from tensorflow<2.11,>=2.10.0->tensorflow-text==2.10.0) (71.0.4)\n",
            "Requirement already satisfied: six>=1.12.0 in /usr/local/lib/python3.10/dist-packages (from tensorflow<2.11,>=2.10.0->tensorflow-text==2.10.0) (1.16.0)\n",
            "Collecting tensorboard<2.11,>=2.10 (from tensorflow<2.11,>=2.10.0->tensorflow-text==2.10.0)\n",
            "  Downloading tensorboard-2.10.1-py3-none-any.whl.metadata (1.9 kB)\n",
            "Requirement already satisfied: tensorflow-io-gcs-filesystem>=0.23.1 in /usr/local/lib/python3.10/dist-packages (from tensorflow<2.11,>=2.10.0->tensorflow-text==2.10.0) (0.37.1)\n",
            "Collecting tensorflow-estimator<2.11,>=2.10.0 (from tensorflow<2.11,>=2.10.0->tensorflow-text==2.10.0)\n",
            "  Downloading tensorflow_estimator-2.10.0-py2.py3-none-any.whl.metadata (1.3 kB)\n",
            "Requirement already satisfied: termcolor>=1.1.0 in /usr/local/lib/python3.10/dist-packages (from tensorflow<2.11,>=2.10.0->tensorflow-text==2.10.0) (2.4.0)\n",
            "Requirement already satisfied: typing-extensions>=3.6.6 in /usr/local/lib/python3.10/dist-packages (from tensorflow<2.11,>=2.10.0->tensorflow-text==2.10.0) (4.12.2)\n",
            "Requirement already satisfied: wrapt>=1.11.0 in /usr/local/lib/python3.10/dist-packages (from tensorflow<2.11,>=2.10.0->tensorflow-text==2.10.0) (1.16.0)\n",
            "Requirement already satisfied: tf-keras>=2.14.1 in /usr/local/lib/python3.10/dist-packages (from tensorflow-hub>=0.8.0->tensorflow-text==2.10.0) (2.17.0)\n",
            "Requirement already satisfied: wheel<1.0,>=0.23.0 in /usr/local/lib/python3.10/dist-packages (from astunparse>=1.6.0->tensorflow<2.11,>=2.10.0->tensorflow-text==2.10.0) (0.44.0)\n",
            "Requirement already satisfied: google-auth<3,>=1.6.3 in /usr/local/lib/python3.10/dist-packages (from tensorboard<2.11,>=2.10->tensorflow<2.11,>=2.10.0->tensorflow-text==2.10.0) (2.27.0)\n",
            "Collecting google-auth-oauthlib<0.5,>=0.4.1 (from tensorboard<2.11,>=2.10->tensorflow<2.11,>=2.10.0->tensorflow-text==2.10.0)\n",
            "  Downloading google_auth_oauthlib-0.4.6-py2.py3-none-any.whl.metadata (2.7 kB)\n",
            "Requirement already satisfied: markdown>=2.6.8 in /usr/local/lib/python3.10/dist-packages (from tensorboard<2.11,>=2.10->tensorflow<2.11,>=2.10.0->tensorflow-text==2.10.0) (3.7)\n",
            "Requirement already satisfied: requests<3,>=2.21.0 in /usr/local/lib/python3.10/dist-packages (from tensorboard<2.11,>=2.10->tensorflow<2.11,>=2.10.0->tensorflow-text==2.10.0) (2.32.3)\n",
            "Collecting tensorboard-data-server<0.7.0,>=0.6.0 (from tensorboard<2.11,>=2.10->tensorflow<2.11,>=2.10.0->tensorflow-text==2.10.0)\n",
            "  Downloading tensorboard_data_server-0.6.1-py3-none-manylinux2010_x86_64.whl.metadata (1.1 kB)\n",
            "Collecting tensorboard-plugin-wit>=1.6.0 (from tensorboard<2.11,>=2.10->tensorflow<2.11,>=2.10.0->tensorflow-text==2.10.0)\n",
            "  Downloading tensorboard_plugin_wit-1.8.1-py3-none-any.whl.metadata (873 bytes)\n",
            "Requirement already satisfied: werkzeug>=1.0.1 in /usr/local/lib/python3.10/dist-packages (from tensorboard<2.11,>=2.10->tensorflow<2.11,>=2.10.0->tensorflow-text==2.10.0) (3.0.4)\n",
            "INFO: pip is looking at multiple versions of tf-keras to determine which version is compatible with other requirements. This could take a while.\n",
            "Collecting tf-keras>=2.14.1 (from tensorflow-hub>=0.8.0->tensorflow-text==2.10.0)\n",
            "  Downloading tf_keras-2.16.0-py3-none-any.whl.metadata (1.6 kB)\n",
            "  Downloading tf_keras-2.15.1-py3-none-any.whl.metadata (1.7 kB)\n",
            "  Downloading tf_keras-2.15.0-py3-none-any.whl.metadata (1.6 kB)\n",
            "Requirement already satisfied: cachetools<6.0,>=2.0.0 in /usr/local/lib/python3.10/dist-packages (from google-auth<3,>=1.6.3->tensorboard<2.11,>=2.10->tensorflow<2.11,>=2.10.0->tensorflow-text==2.10.0) (5.5.0)\n",
            "Requirement already satisfied: pyasn1-modules>=0.2.1 in /usr/local/lib/python3.10/dist-packages (from google-auth<3,>=1.6.3->tensorboard<2.11,>=2.10->tensorflow<2.11,>=2.10.0->tensorflow-text==2.10.0) (0.4.1)\n",
            "Requirement already satisfied: rsa<5,>=3.1.4 in /usr/local/lib/python3.10/dist-packages (from google-auth<3,>=1.6.3->tensorboard<2.11,>=2.10->tensorflow<2.11,>=2.10.0->tensorflow-text==2.10.0) (4.9)\n",
            "Requirement already satisfied: requests-oauthlib>=0.7.0 in /usr/local/lib/python3.10/dist-packages (from google-auth-oauthlib<0.5,>=0.4.1->tensorboard<2.11,>=2.10->tensorflow<2.11,>=2.10.0->tensorflow-text==2.10.0) (1.3.1)\n",
            "Requirement already satisfied: charset-normalizer<4,>=2 in /usr/local/lib/python3.10/dist-packages (from requests<3,>=2.21.0->tensorboard<2.11,>=2.10->tensorflow<2.11,>=2.10.0->tensorflow-text==2.10.0) (3.3.2)\n",
            "Requirement already satisfied: idna<4,>=2.5 in /usr/local/lib/python3.10/dist-packages (from requests<3,>=2.21.0->tensorboard<2.11,>=2.10->tensorflow<2.11,>=2.10.0->tensorflow-text==2.10.0) (3.10)\n",
            "Requirement already satisfied: urllib3<3,>=1.21.1 in /usr/local/lib/python3.10/dist-packages (from requests<3,>=2.21.0->tensorboard<2.11,>=2.10->tensorflow<2.11,>=2.10.0->tensorflow-text==2.10.0) (2.2.3)\n",
            "Requirement already satisfied: certifi>=2017.4.17 in /usr/local/lib/python3.10/dist-packages (from requests<3,>=2.21.0->tensorboard<2.11,>=2.10->tensorflow<2.11,>=2.10.0->tensorflow-text==2.10.0) (2024.8.30)\n",
            "Requirement already satisfied: MarkupSafe>=2.1.1 in /usr/local/lib/python3.10/dist-packages (from werkzeug>=1.0.1->tensorboard<2.11,>=2.10->tensorflow<2.11,>=2.10.0->tensorflow-text==2.10.0) (2.1.5)\n",
            "Requirement already satisfied: pyasn1<0.7.0,>=0.4.6 in /usr/local/lib/python3.10/dist-packages (from pyasn1-modules>=0.2.1->google-auth<3,>=1.6.3->tensorboard<2.11,>=2.10->tensorflow<2.11,>=2.10.0->tensorflow-text==2.10.0) (0.6.1)\n",
            "Requirement already satisfied: oauthlib>=3.0.0 in /usr/local/lib/python3.10/dist-packages (from requests-oauthlib>=0.7.0->google-auth-oauthlib<0.5,>=0.4.1->tensorboard<2.11,>=2.10->tensorflow<2.11,>=2.10.0->tensorflow-text==2.10.0) (3.2.2)\n",
            "Downloading tensorflow_text-2.10.0-cp310-cp310-manylinux_2_17_x86_64.manylinux2014_x86_64.whl (5.9 MB)\n",
            "\u001b[2K   \u001b[90m━━━━━━━━━━━━━━━━━━━━━━━━━━━━━━━━━━━━━━━━\u001b[0m \u001b[32m5.9/5.9 MB\u001b[0m \u001b[31m16.2 MB/s\u001b[0m eta \u001b[36m0:00:00\u001b[0m\n",
            "\u001b[?25hDownloading tensorflow-2.10.1-cp310-cp310-manylinux_2_17_x86_64.manylinux2014_x86_64.whl (578.1 MB)\n",
            "\u001b[2K   \u001b[90m━━━━━━━━━━━━━━━━━━━━━━━━━━━━━━━━━━━━━━━━\u001b[0m \u001b[32m578.1/578.1 MB\u001b[0m \u001b[31m3.3 MB/s\u001b[0m eta \u001b[36m0:00:00\u001b[0m\n",
            "\u001b[?25hDownloading gast-0.4.0-py3-none-any.whl (9.8 kB)\n",
            "Downloading keras-2.10.0-py2.py3-none-any.whl (1.7 MB)\n",
            "\u001b[2K   \u001b[90m━━━━━━━━━━━━━━━━━━━━━━━━━━━━━━━━━━━━━━━━\u001b[0m \u001b[32m1.7/1.7 MB\u001b[0m \u001b[31m69.5 MB/s\u001b[0m eta \u001b[36m0:00:00\u001b[0m\n",
            "\u001b[?25hDownloading Keras_Preprocessing-1.1.2-py2.py3-none-any.whl (42 kB)\n",
            "\u001b[2K   \u001b[90m━━━━━━━━━━━━━━━━━━━━━━━━━━━━━━━━━━━━━━━━\u001b[0m \u001b[32m42.6/42.6 kB\u001b[0m \u001b[31m3.8 MB/s\u001b[0m eta \u001b[36m0:00:00\u001b[0m\n",
            "\u001b[?25hDownloading protobuf-3.19.6-cp310-cp310-manylinux_2_17_x86_64.manylinux2014_x86_64.whl (1.1 MB)\n",
            "\u001b[2K   \u001b[90m━━━━━━━━━━━━━━━━━━━━━━━━━━━━━━━━━━━━━━━━\u001b[0m \u001b[32m1.1/1.1 MB\u001b[0m \u001b[31m62.1 MB/s\u001b[0m eta \u001b[36m0:00:00\u001b[0m\n",
            "\u001b[?25hDownloading tensorboard-2.10.1-py3-none-any.whl (5.9 MB)\n",
            "\u001b[2K   \u001b[90m━━━━━━━━━━━━━━━━━━━━━━━━━━━━━━━━━━━━━━━━\u001b[0m \u001b[32m5.9/5.9 MB\u001b[0m \u001b[31m82.9 MB/s\u001b[0m eta \u001b[36m0:00:00\u001b[0m\n",
            "\u001b[?25hDownloading tensorflow_estimator-2.10.0-py2.py3-none-any.whl (438 kB)\n",
            "\u001b[2K   \u001b[90m━━━━━━━━━━━━━━━━━━━━━━━━━━━━━━━━━━━━━━━━\u001b[0m \u001b[32m438.7/438.7 kB\u001b[0m \u001b[31m35.0 MB/s\u001b[0m eta \u001b[36m0:00:00\u001b[0m\n",
            "\u001b[?25hDownloading tf_keras-2.15.0-py3-none-any.whl (1.7 MB)\n",
            "\u001b[2K   \u001b[90m━━━━━━━━━━━━━━━━━━━━━━━━━━━━━━━━━━━━━━━━\u001b[0m \u001b[32m1.7/1.7 MB\u001b[0m \u001b[31m81.2 MB/s\u001b[0m eta \u001b[36m0:00:00\u001b[0m\n",
            "\u001b[?25hDownloading google_auth_oauthlib-0.4.6-py2.py3-none-any.whl (18 kB)\n",
            "Downloading tensorboard_data_server-0.6.1-py3-none-manylinux2010_x86_64.whl (4.9 MB)\n",
            "\u001b[2K   \u001b[90m━━━━━━━━━━━━━━━━━━━━━━━━━━━━━━━━━━━━━━━━\u001b[0m \u001b[32m4.9/4.9 MB\u001b[0m \u001b[31m108.1 MB/s\u001b[0m eta \u001b[36m0:00:00\u001b[0m\n",
            "\u001b[?25hDownloading tensorboard_plugin_wit-1.8.1-py3-none-any.whl (781 kB)\n",
            "\u001b[2K   \u001b[90m━━━━━━━━━━━━━━━━━━━━━━━━━━━━━━━━━━━━━━━━\u001b[0m \u001b[32m781.3/781.3 kB\u001b[0m \u001b[31m50.7 MB/s\u001b[0m eta \u001b[36m0:00:00\u001b[0m\n",
            "\u001b[?25hInstalling collected packages: tensorboard-plugin-wit, keras, tf-keras, tensorflow-estimator, tensorboard-data-server, protobuf, keras-preprocessing, gast, google-auth-oauthlib, tensorboard, tensorflow, tensorflow-text\n",
            "  Attempting uninstall: tf-keras\n",
            "    Found existing installation: tf_keras 2.17.0\n",
            "    Uninstalling tf_keras-2.17.0:\n",
            "      Successfully uninstalled tf_keras-2.17.0\n",
            "  Attempting uninstall: tensorboard-data-server\n",
            "    Found existing installation: tensorboard-data-server 0.7.2\n",
            "    Uninstalling tensorboard-data-server-0.7.2:\n",
            "      Successfully uninstalled tensorboard-data-server-0.7.2\n",
            "  Attempting uninstall: protobuf\n",
            "    Found existing installation: protobuf 3.20.3\n",
            "    Uninstalling protobuf-3.20.3:\n",
            "      Successfully uninstalled protobuf-3.20.3\n",
            "  Attempting uninstall: gast\n",
            "    Found existing installation: gast 0.6.0\n",
            "    Uninstalling gast-0.6.0:\n",
            "      Successfully uninstalled gast-0.6.0\n",
            "  Attempting uninstall: google-auth-oauthlib\n",
            "    Found existing installation: google-auth-oauthlib 1.2.1\n",
            "    Uninstalling google-auth-oauthlib-1.2.1:\n",
            "      Successfully uninstalled google-auth-oauthlib-1.2.1\n",
            "  Attempting uninstall: tensorboard\n",
            "    Found existing installation: tensorboard 2.17.0\n",
            "    Uninstalling tensorboard-2.17.0:\n",
            "      Successfully uninstalled tensorboard-2.17.0\n",
            "\u001b[31mERROR: pip's dependency resolver does not currently take into account all the packages that are installed. This behaviour is the source of the following dependency conflicts.\n",
            "google-cloud-aiplatform 1.68.0 requires protobuf!=4.21.0,!=4.21.1,!=4.21.2,!=4.21.3,!=4.21.4,!=4.21.5,<6.0.0dev,>=3.20.2, but you have protobuf 3.19.6 which is incompatible.\n",
            "google-cloud-bigquery-connection 1.15.5 requires protobuf!=4.21.0,!=4.21.1,!=4.21.2,!=4.21.3,!=4.21.4,!=4.21.5,<6.0.0dev,>=3.20.2, but you have protobuf 3.19.6 which is incompatible.\n",
            "google-cloud-bigquery-storage 2.26.0 requires protobuf!=3.20.0,!=3.20.1,!=4.21.0,!=4.21.1,!=4.21.2,!=4.21.3,!=4.21.4,!=4.21.5,<6.0.0dev,>=3.20.2, but you have protobuf 3.19.6 which is incompatible.\n",
            "google-cloud-bigtable 2.26.0 requires protobuf!=4.21.0,!=4.21.1,!=4.21.2,!=4.21.3,!=4.21.4,!=4.21.5,<6.0.0dev,>=3.20.2, but you have protobuf 3.19.6 which is incompatible.\n",
            "google-cloud-functions 1.16.5 requires protobuf!=4.21.0,!=4.21.1,!=4.21.2,!=4.21.3,!=4.21.4,!=4.21.5,<6.0.0dev,>=3.20.2, but you have protobuf 3.19.6 which is incompatible.\n",
            "google-cloud-iam 2.15.2 requires protobuf!=4.21.0,!=4.21.1,!=4.21.2,!=4.21.3,!=4.21.4,!=4.21.5,<6.0.0dev,>=3.20.2, but you have protobuf 3.19.6 which is incompatible.\n",
            "google-cloud-language 2.13.4 requires protobuf!=4.21.0,!=4.21.1,!=4.21.2,!=4.21.3,!=4.21.4,!=4.21.5,<6.0.0dev,>=3.20.2, but you have protobuf 3.19.6 which is incompatible.\n",
            "google-cloud-pubsub 2.25.1 requires protobuf!=4.21.0,!=4.21.1,!=4.21.2,!=4.21.3,!=4.21.4,!=4.21.5,<6.0.0dev,>=3.20.2, but you have protobuf 3.19.6 which is incompatible.\n",
            "google-cloud-resource-manager 1.12.5 requires protobuf!=4.21.0,!=4.21.1,!=4.21.2,!=4.21.3,!=4.21.4,!=4.21.5,<6.0.0dev,>=3.20.2, but you have protobuf 3.19.6 which is incompatible.\n",
            "google-cloud-translate 3.15.5 requires protobuf!=4.21.0,!=4.21.1,!=4.21.2,!=4.21.3,!=4.21.4,!=4.21.5,<6.0.0dev,>=3.20.2, but you have protobuf 3.19.6 which is incompatible.\n",
            "googleapis-common-protos 1.65.0 requires protobuf!=3.20.0,!=3.20.1,!=4.21.1,!=4.21.2,!=4.21.3,!=4.21.4,!=4.21.5,<6.0.0.dev0,>=3.20.2, but you have protobuf 3.19.6 which is incompatible.\n",
            "grpc-google-iam-v1 0.13.1 requires protobuf!=4.21.1,!=4.21.2,!=4.21.3,!=4.21.4,!=4.21.5,<6.0.0dev,>=3.20.2, but you have protobuf 3.19.6 which is incompatible.\n",
            "pandas-gbq 0.23.2 requires google-auth-oauthlib>=0.7.0, but you have google-auth-oauthlib 0.4.6 which is incompatible.\n",
            "tensorflow-datasets 4.9.6 requires protobuf>=3.20, but you have protobuf 3.19.6 which is incompatible.\n",
            "tensorflow-metadata 1.15.0 requires protobuf<4.21,>=3.20.3; python_version < \"3.11\", but you have protobuf 3.19.6 which is incompatible.\u001b[0m\u001b[31m\n",
            "\u001b[0mSuccessfully installed gast-0.4.0 google-auth-oauthlib-0.4.6 keras-2.10.0 keras-preprocessing-1.1.2 protobuf-3.19.6 tensorboard-2.10.1 tensorboard-data-server-0.6.1 tensorboard-plugin-wit-1.8.1 tensorflow-2.10.1 tensorflow-estimator-2.10.0 tensorflow-text-2.10.0 tf-keras-2.15.0\n"
          ]
        },
        {
          "data": {
            "application/vnd.colab-display-data+json": {
              "id": "d2bd2dff4eb54a689689d0cd50b0c775",
              "pip_warning": {
                "packages": [
                  "google"
                ]
              }
            }
          },
          "metadata": {},
          "output_type": "display_data"
        }
      ],
      "source": [
        "!pip install tensorflow-text==2.10.0\n",
        "\n",
        "\n"
      ]
    },
    {
      "cell_type": "code",
      "execution_count": null,
      "metadata": {
        "colab": {
          "base_uri": "https://localhost:8080/"
        },
        "id": "7TGZmOuqMia9",
        "outputId": "2312e077-580a-4aa1-d392-e5bb2fd29f91"
      },
      "outputs": [
        {
          "name": "stdout",
          "output_type": "stream",
          "text": [
            "Requirement already satisfied: einops in /usr/local/lib/python3.10/dist-packages (0.8.0)\n",
            "Requirement already satisfied: tensorflow in /usr/local/lib/python3.10/dist-packages (2.10.1)\n",
            "Requirement already satisfied: absl-py>=1.0.0 in /usr/local/lib/python3.10/dist-packages (from tensorflow) (1.4.0)\n",
            "Requirement already satisfied: astunparse>=1.6.0 in /usr/local/lib/python3.10/dist-packages (from tensorflow) (1.6.3)\n",
            "Requirement already satisfied: flatbuffers>=2.0 in /usr/local/lib/python3.10/dist-packages (from tensorflow) (24.3.25)\n",
            "Requirement already satisfied: gast<=0.4.0,>=0.2.1 in /usr/local/lib/python3.10/dist-packages (from tensorflow) (0.4.0)\n",
            "Requirement already satisfied: google-pasta>=0.1.1 in /usr/local/lib/python3.10/dist-packages (from tensorflow) (0.2.0)\n",
            "Requirement already satisfied: grpcio<2.0,>=1.24.3 in /usr/local/lib/python3.10/dist-packages (from tensorflow) (1.64.1)\n",
            "Requirement already satisfied: h5py>=2.9.0 in /usr/local/lib/python3.10/dist-packages (from tensorflow) (3.11.0)\n",
            "Requirement already satisfied: keras<2.11,>=2.10.0 in /usr/local/lib/python3.10/dist-packages (from tensorflow) (2.10.0)\n",
            "Requirement already satisfied: keras-preprocessing>=1.1.1 in /usr/local/lib/python3.10/dist-packages (from tensorflow) (1.1.2)\n",
            "Requirement already satisfied: libclang>=13.0.0 in /usr/local/lib/python3.10/dist-packages (from tensorflow) (18.1.1)\n",
            "Requirement already satisfied: numpy>=1.20 in /usr/local/lib/python3.10/dist-packages (from tensorflow) (1.26.4)\n",
            "Requirement already satisfied: opt-einsum>=2.3.2 in /usr/local/lib/python3.10/dist-packages (from tensorflow) (3.4.0)\n",
            "Requirement already satisfied: packaging in /usr/local/lib/python3.10/dist-packages (from tensorflow) (24.1)\n",
            "Requirement already satisfied: protobuf<3.20,>=3.9.2 in /usr/local/lib/python3.10/dist-packages (from tensorflow) (3.19.6)\n",
            "Requirement already satisfied: setuptools in /usr/local/lib/python3.10/dist-packages (from tensorflow) (71.0.4)\n",
            "Requirement already satisfied: six>=1.12.0 in /usr/local/lib/python3.10/dist-packages (from tensorflow) (1.16.0)\n",
            "Requirement already satisfied: tensorboard<2.11,>=2.10 in /usr/local/lib/python3.10/dist-packages (from tensorflow) (2.10.1)\n",
            "Requirement already satisfied: tensorflow-io-gcs-filesystem>=0.23.1 in /usr/local/lib/python3.10/dist-packages (from tensorflow) (0.37.1)\n",
            "Requirement already satisfied: tensorflow-estimator<2.11,>=2.10.0 in /usr/local/lib/python3.10/dist-packages (from tensorflow) (2.10.0)\n",
            "Requirement already satisfied: termcolor>=1.1.0 in /usr/local/lib/python3.10/dist-packages (from tensorflow) (2.4.0)\n",
            "Requirement already satisfied: typing-extensions>=3.6.6 in /usr/local/lib/python3.10/dist-packages (from tensorflow) (4.12.2)\n",
            "Requirement already satisfied: wrapt>=1.11.0 in /usr/local/lib/python3.10/dist-packages (from tensorflow) (1.16.0)\n",
            "Requirement already satisfied: wheel<1.0,>=0.23.0 in /usr/local/lib/python3.10/dist-packages (from astunparse>=1.6.0->tensorflow) (0.44.0)\n",
            "Requirement already satisfied: google-auth<3,>=1.6.3 in /usr/local/lib/python3.10/dist-packages (from tensorboard<2.11,>=2.10->tensorflow) (2.27.0)\n",
            "Requirement already satisfied: google-auth-oauthlib<0.5,>=0.4.1 in /usr/local/lib/python3.10/dist-packages (from tensorboard<2.11,>=2.10->tensorflow) (0.4.6)\n",
            "Requirement already satisfied: markdown>=2.6.8 in /usr/local/lib/python3.10/dist-packages (from tensorboard<2.11,>=2.10->tensorflow) (3.7)\n",
            "Requirement already satisfied: requests<3,>=2.21.0 in /usr/local/lib/python3.10/dist-packages (from tensorboard<2.11,>=2.10->tensorflow) (2.32.3)\n",
            "Requirement already satisfied: tensorboard-data-server<0.7.0,>=0.6.0 in /usr/local/lib/python3.10/dist-packages (from tensorboard<2.11,>=2.10->tensorflow) (0.6.1)\n",
            "Requirement already satisfied: tensorboard-plugin-wit>=1.6.0 in /usr/local/lib/python3.10/dist-packages (from tensorboard<2.11,>=2.10->tensorflow) (1.8.1)\n",
            "Requirement already satisfied: werkzeug>=1.0.1 in /usr/local/lib/python3.10/dist-packages (from tensorboard<2.11,>=2.10->tensorflow) (3.0.4)\n",
            "Requirement already satisfied: cachetools<6.0,>=2.0.0 in /usr/local/lib/python3.10/dist-packages (from google-auth<3,>=1.6.3->tensorboard<2.11,>=2.10->tensorflow) (5.5.0)\n",
            "Requirement already satisfied: pyasn1-modules>=0.2.1 in /usr/local/lib/python3.10/dist-packages (from google-auth<3,>=1.6.3->tensorboard<2.11,>=2.10->tensorflow) (0.4.1)\n",
            "Requirement already satisfied: rsa<5,>=3.1.4 in /usr/local/lib/python3.10/dist-packages (from google-auth<3,>=1.6.3->tensorboard<2.11,>=2.10->tensorflow) (4.9)\n",
            "Requirement already satisfied: requests-oauthlib>=0.7.0 in /usr/local/lib/python3.10/dist-packages (from google-auth-oauthlib<0.5,>=0.4.1->tensorboard<2.11,>=2.10->tensorflow) (1.3.1)\n",
            "Requirement already satisfied: charset-normalizer<4,>=2 in /usr/local/lib/python3.10/dist-packages (from requests<3,>=2.21.0->tensorboard<2.11,>=2.10->tensorflow) (3.3.2)\n",
            "Requirement already satisfied: idna<4,>=2.5 in /usr/local/lib/python3.10/dist-packages (from requests<3,>=2.21.0->tensorboard<2.11,>=2.10->tensorflow) (3.10)\n",
            "Requirement already satisfied: urllib3<3,>=1.21.1 in /usr/local/lib/python3.10/dist-packages (from requests<3,>=2.21.0->tensorboard<2.11,>=2.10->tensorflow) (2.2.3)\n",
            "Requirement already satisfied: certifi>=2017.4.17 in /usr/local/lib/python3.10/dist-packages (from requests<3,>=2.21.0->tensorboard<2.11,>=2.10->tensorflow) (2024.8.30)\n",
            "Requirement already satisfied: MarkupSafe>=2.1.1 in /usr/local/lib/python3.10/dist-packages (from werkzeug>=1.0.1->tensorboard<2.11,>=2.10->tensorflow) (2.1.5)\n",
            "Requirement already satisfied: pyasn1<0.7.0,>=0.4.6 in /usr/local/lib/python3.10/dist-packages (from pyasn1-modules>=0.2.1->google-auth<3,>=1.6.3->tensorboard<2.11,>=2.10->tensorflow) (0.6.1)\n",
            "Requirement already satisfied: oauthlib>=3.0.0 in /usr/local/lib/python3.10/dist-packages (from requests-oauthlib>=0.7.0->google-auth-oauthlib<0.5,>=0.4.1->tensorboard<2.11,>=2.10->tensorflow) (3.2.2)\n"
          ]
        }
      ],
      "source": [
        "!pip install einops\n",
        "!pip install tensorflow\n"
      ]
    },
    {
      "cell_type": "code",
      "execution_count": null,
      "metadata": {
        "colab": {
          "base_uri": "https://localhost:8080/"
        },
        "id": "hX8j8bZA7_zA",
        "outputId": "cefbf25a-c972-449b-d9e4-0019d083232d"
      },
      "outputs": [
        {
          "name": "stdout",
          "output_type": "stream",
          "text": [
            "Requirement already satisfied: tensorflow-hub in /usr/local/lib/python3.10/dist-packages (0.16.1)\n",
            "Requirement already satisfied: numpy>=1.12.0 in /usr/local/lib/python3.10/dist-packages (from tensorflow-hub) (1.26.4)\n",
            "Requirement already satisfied: protobuf>=3.19.6 in /usr/local/lib/python3.10/dist-packages (from tensorflow-hub) (3.19.6)\n",
            "Requirement already satisfied: tf-keras>=2.14.1 in /usr/local/lib/python3.10/dist-packages (from tensorflow-hub) (2.15.0)\n"
          ]
        }
      ],
      "source": [
        "!pip install tensorflow-hub"
      ]
    },
    {
      "cell_type": "code",
      "execution_count": null,
      "metadata": {
        "colab": {
          "base_uri": "https://localhost:8080/"
        },
        "id": "xt2iqKJ77_zA",
        "outputId": "574acc73-24fe-4a89-b52f-d8558e9b5b59"
      },
      "outputs": [
        {
          "name": "stdout",
          "output_type": "stream",
          "text": [
            "Requirement already satisfied: tensorflow-text in /usr/local/lib/python3.10/dist-packages (2.10.0)\n",
            "Requirement already satisfied: tensorflow-hub>=0.8.0 in /usr/local/lib/python3.10/dist-packages (from tensorflow-text) (0.16.1)\n",
            "Requirement already satisfied: tensorflow<2.11,>=2.10.0 in /usr/local/lib/python3.10/dist-packages (from tensorflow-text) (2.10.1)\n",
            "Requirement already satisfied: absl-py>=1.0.0 in /usr/local/lib/python3.10/dist-packages (from tensorflow<2.11,>=2.10.0->tensorflow-text) (1.4.0)\n",
            "Requirement already satisfied: astunparse>=1.6.0 in /usr/local/lib/python3.10/dist-packages (from tensorflow<2.11,>=2.10.0->tensorflow-text) (1.6.3)\n",
            "Requirement already satisfied: flatbuffers>=2.0 in /usr/local/lib/python3.10/dist-packages (from tensorflow<2.11,>=2.10.0->tensorflow-text) (24.3.25)\n",
            "Requirement already satisfied: gast<=0.4.0,>=0.2.1 in /usr/local/lib/python3.10/dist-packages (from tensorflow<2.11,>=2.10.0->tensorflow-text) (0.4.0)\n",
            "Requirement already satisfied: google-pasta>=0.1.1 in /usr/local/lib/python3.10/dist-packages (from tensorflow<2.11,>=2.10.0->tensorflow-text) (0.2.0)\n",
            "Requirement already satisfied: grpcio<2.0,>=1.24.3 in /usr/local/lib/python3.10/dist-packages (from tensorflow<2.11,>=2.10.0->tensorflow-text) (1.64.1)\n",
            "Requirement already satisfied: h5py>=2.9.0 in /usr/local/lib/python3.10/dist-packages (from tensorflow<2.11,>=2.10.0->tensorflow-text) (3.11.0)\n",
            "Requirement already satisfied: keras<2.11,>=2.10.0 in /usr/local/lib/python3.10/dist-packages (from tensorflow<2.11,>=2.10.0->tensorflow-text) (2.10.0)\n",
            "Requirement already satisfied: keras-preprocessing>=1.1.1 in /usr/local/lib/python3.10/dist-packages (from tensorflow<2.11,>=2.10.0->tensorflow-text) (1.1.2)\n",
            "Requirement already satisfied: libclang>=13.0.0 in /usr/local/lib/python3.10/dist-packages (from tensorflow<2.11,>=2.10.0->tensorflow-text) (18.1.1)\n",
            "Requirement already satisfied: numpy>=1.20 in /usr/local/lib/python3.10/dist-packages (from tensorflow<2.11,>=2.10.0->tensorflow-text) (1.26.4)\n",
            "Requirement already satisfied: opt-einsum>=2.3.2 in /usr/local/lib/python3.10/dist-packages (from tensorflow<2.11,>=2.10.0->tensorflow-text) (3.4.0)\n",
            "Requirement already satisfied: packaging in /usr/local/lib/python3.10/dist-packages (from tensorflow<2.11,>=2.10.0->tensorflow-text) (24.1)\n",
            "Requirement already satisfied: protobuf<3.20,>=3.9.2 in /usr/local/lib/python3.10/dist-packages (from tensorflow<2.11,>=2.10.0->tensorflow-text) (3.19.6)\n",
            "Requirement already satisfied: setuptools in /usr/local/lib/python3.10/dist-packages (from tensorflow<2.11,>=2.10.0->tensorflow-text) (71.0.4)\n",
            "Requirement already satisfied: six>=1.12.0 in /usr/local/lib/python3.10/dist-packages (from tensorflow<2.11,>=2.10.0->tensorflow-text) (1.16.0)\n",
            "Requirement already satisfied: tensorboard<2.11,>=2.10 in /usr/local/lib/python3.10/dist-packages (from tensorflow<2.11,>=2.10.0->tensorflow-text) (2.10.1)\n",
            "Requirement already satisfied: tensorflow-io-gcs-filesystem>=0.23.1 in /usr/local/lib/python3.10/dist-packages (from tensorflow<2.11,>=2.10.0->tensorflow-text) (0.37.1)\n",
            "Requirement already satisfied: tensorflow-estimator<2.11,>=2.10.0 in /usr/local/lib/python3.10/dist-packages (from tensorflow<2.11,>=2.10.0->tensorflow-text) (2.10.0)\n",
            "Requirement already satisfied: termcolor>=1.1.0 in /usr/local/lib/python3.10/dist-packages (from tensorflow<2.11,>=2.10.0->tensorflow-text) (2.4.0)\n",
            "Requirement already satisfied: typing-extensions>=3.6.6 in /usr/local/lib/python3.10/dist-packages (from tensorflow<2.11,>=2.10.0->tensorflow-text) (4.12.2)\n",
            "Requirement already satisfied: wrapt>=1.11.0 in /usr/local/lib/python3.10/dist-packages (from tensorflow<2.11,>=2.10.0->tensorflow-text) (1.16.0)\n",
            "Requirement already satisfied: tf-keras>=2.14.1 in /usr/local/lib/python3.10/dist-packages (from tensorflow-hub>=0.8.0->tensorflow-text) (2.15.0)\n",
            "Requirement already satisfied: wheel<1.0,>=0.23.0 in /usr/local/lib/python3.10/dist-packages (from astunparse>=1.6.0->tensorflow<2.11,>=2.10.0->tensorflow-text) (0.44.0)\n",
            "Requirement already satisfied: google-auth<3,>=1.6.3 in /usr/local/lib/python3.10/dist-packages (from tensorboard<2.11,>=2.10->tensorflow<2.11,>=2.10.0->tensorflow-text) (2.27.0)\n",
            "Requirement already satisfied: google-auth-oauthlib<0.5,>=0.4.1 in /usr/local/lib/python3.10/dist-packages (from tensorboard<2.11,>=2.10->tensorflow<2.11,>=2.10.0->tensorflow-text) (0.4.6)\n",
            "Requirement already satisfied: markdown>=2.6.8 in /usr/local/lib/python3.10/dist-packages (from tensorboard<2.11,>=2.10->tensorflow<2.11,>=2.10.0->tensorflow-text) (3.7)\n",
            "Requirement already satisfied: requests<3,>=2.21.0 in /usr/local/lib/python3.10/dist-packages (from tensorboard<2.11,>=2.10->tensorflow<2.11,>=2.10.0->tensorflow-text) (2.32.3)\n",
            "Requirement already satisfied: tensorboard-data-server<0.7.0,>=0.6.0 in /usr/local/lib/python3.10/dist-packages (from tensorboard<2.11,>=2.10->tensorflow<2.11,>=2.10.0->tensorflow-text) (0.6.1)\n",
            "Requirement already satisfied: tensorboard-plugin-wit>=1.6.0 in /usr/local/lib/python3.10/dist-packages (from tensorboard<2.11,>=2.10->tensorflow<2.11,>=2.10.0->tensorflow-text) (1.8.1)\n",
            "Requirement already satisfied: werkzeug>=1.0.1 in /usr/local/lib/python3.10/dist-packages (from tensorboard<2.11,>=2.10->tensorflow<2.11,>=2.10.0->tensorflow-text) (3.0.4)\n",
            "Requirement already satisfied: cachetools<6.0,>=2.0.0 in /usr/local/lib/python3.10/dist-packages (from google-auth<3,>=1.6.3->tensorboard<2.11,>=2.10->tensorflow<2.11,>=2.10.0->tensorflow-text) (5.5.0)\n",
            "Requirement already satisfied: pyasn1-modules>=0.2.1 in /usr/local/lib/python3.10/dist-packages (from google-auth<3,>=1.6.3->tensorboard<2.11,>=2.10->tensorflow<2.11,>=2.10.0->tensorflow-text) (0.4.1)\n",
            "Requirement already satisfied: rsa<5,>=3.1.4 in /usr/local/lib/python3.10/dist-packages (from google-auth<3,>=1.6.3->tensorboard<2.11,>=2.10->tensorflow<2.11,>=2.10.0->tensorflow-text) (4.9)\n",
            "Requirement already satisfied: requests-oauthlib>=0.7.0 in /usr/local/lib/python3.10/dist-packages (from google-auth-oauthlib<0.5,>=0.4.1->tensorboard<2.11,>=2.10->tensorflow<2.11,>=2.10.0->tensorflow-text) (1.3.1)\n",
            "Requirement already satisfied: charset-normalizer<4,>=2 in /usr/local/lib/python3.10/dist-packages (from requests<3,>=2.21.0->tensorboard<2.11,>=2.10->tensorflow<2.11,>=2.10.0->tensorflow-text) (3.3.2)\n",
            "Requirement already satisfied: idna<4,>=2.5 in /usr/local/lib/python3.10/dist-packages (from requests<3,>=2.21.0->tensorboard<2.11,>=2.10->tensorflow<2.11,>=2.10.0->tensorflow-text) (3.10)\n",
            "Requirement already satisfied: urllib3<3,>=1.21.1 in /usr/local/lib/python3.10/dist-packages (from requests<3,>=2.21.0->tensorboard<2.11,>=2.10->tensorflow<2.11,>=2.10.0->tensorflow-text) (2.2.3)\n",
            "Requirement already satisfied: certifi>=2017.4.17 in /usr/local/lib/python3.10/dist-packages (from requests<3,>=2.21.0->tensorboard<2.11,>=2.10->tensorflow<2.11,>=2.10.0->tensorflow-text) (2024.8.30)\n",
            "Requirement already satisfied: MarkupSafe>=2.1.1 in /usr/local/lib/python3.10/dist-packages (from werkzeug>=1.0.1->tensorboard<2.11,>=2.10->tensorflow<2.11,>=2.10.0->tensorflow-text) (2.1.5)\n",
            "Requirement already satisfied: pyasn1<0.7.0,>=0.4.6 in /usr/local/lib/python3.10/dist-packages (from pyasn1-modules>=0.2.1->google-auth<3,>=1.6.3->tensorboard<2.11,>=2.10->tensorflow<2.11,>=2.10.0->tensorflow-text) (0.6.1)\n",
            "Requirement already satisfied: oauthlib>=3.0.0 in /usr/local/lib/python3.10/dist-packages (from requests-oauthlib>=0.7.0->google-auth-oauthlib<0.5,>=0.4.1->tensorboard<2.11,>=2.10->tensorflow<2.11,>=2.10.0->tensorflow-text) (3.2.2)\n"
          ]
        }
      ],
      "source": [
        "!pip install tensorflow-text"
      ]
    },
    {
      "cell_type": "code",
      "execution_count": null,
      "metadata": {
        "colab": {
          "base_uri": "https://localhost:8080/"
        },
        "id": "W2KiWS4W7_zB",
        "outputId": "568b3d24-a3b4-4487-ca00-10e1d8132d5e"
      },
      "outputs": [
        {
          "name": "stdout",
          "output_type": "stream",
          "text": [
            "Requirement already satisfied: tensorflow-text in /usr/local/lib/python3.10/dist-packages (2.10.0)\n",
            "Requirement already satisfied: tensorflow-hub>=0.8.0 in /usr/local/lib/python3.10/dist-packages (from tensorflow-text) (0.16.1)\n",
            "Requirement already satisfied: tensorflow<2.11,>=2.10.0 in /usr/local/lib/python3.10/dist-packages (from tensorflow-text) (2.10.1)\n",
            "Requirement already satisfied: absl-py>=1.0.0 in /usr/local/lib/python3.10/dist-packages (from tensorflow<2.11,>=2.10.0->tensorflow-text) (1.4.0)\n",
            "Requirement already satisfied: astunparse>=1.6.0 in /usr/local/lib/python3.10/dist-packages (from tensorflow<2.11,>=2.10.0->tensorflow-text) (1.6.3)\n",
            "Requirement already satisfied: flatbuffers>=2.0 in /usr/local/lib/python3.10/dist-packages (from tensorflow<2.11,>=2.10.0->tensorflow-text) (24.3.25)\n",
            "Requirement already satisfied: gast<=0.4.0,>=0.2.1 in /usr/local/lib/python3.10/dist-packages (from tensorflow<2.11,>=2.10.0->tensorflow-text) (0.4.0)\n",
            "Requirement already satisfied: google-pasta>=0.1.1 in /usr/local/lib/python3.10/dist-packages (from tensorflow<2.11,>=2.10.0->tensorflow-text) (0.2.0)\n",
            "Requirement already satisfied: grpcio<2.0,>=1.24.3 in /usr/local/lib/python3.10/dist-packages (from tensorflow<2.11,>=2.10.0->tensorflow-text) (1.64.1)\n",
            "Requirement already satisfied: h5py>=2.9.0 in /usr/local/lib/python3.10/dist-packages (from tensorflow<2.11,>=2.10.0->tensorflow-text) (3.11.0)\n",
            "Requirement already satisfied: keras<2.11,>=2.10.0 in /usr/local/lib/python3.10/dist-packages (from tensorflow<2.11,>=2.10.0->tensorflow-text) (2.10.0)\n",
            "Requirement already satisfied: keras-preprocessing>=1.1.1 in /usr/local/lib/python3.10/dist-packages (from tensorflow<2.11,>=2.10.0->tensorflow-text) (1.1.2)\n",
            "Requirement already satisfied: libclang>=13.0.0 in /usr/local/lib/python3.10/dist-packages (from tensorflow<2.11,>=2.10.0->tensorflow-text) (18.1.1)\n",
            "Requirement already satisfied: numpy>=1.20 in /usr/local/lib/python3.10/dist-packages (from tensorflow<2.11,>=2.10.0->tensorflow-text) (1.26.4)\n",
            "Requirement already satisfied: opt-einsum>=2.3.2 in /usr/local/lib/python3.10/dist-packages (from tensorflow<2.11,>=2.10.0->tensorflow-text) (3.4.0)\n",
            "Requirement already satisfied: packaging in /usr/local/lib/python3.10/dist-packages (from tensorflow<2.11,>=2.10.0->tensorflow-text) (24.1)\n",
            "Requirement already satisfied: protobuf<3.20,>=3.9.2 in /usr/local/lib/python3.10/dist-packages (from tensorflow<2.11,>=2.10.0->tensorflow-text) (3.19.6)\n",
            "Requirement already satisfied: setuptools in /usr/local/lib/python3.10/dist-packages (from tensorflow<2.11,>=2.10.0->tensorflow-text) (71.0.4)\n",
            "Requirement already satisfied: six>=1.12.0 in /usr/local/lib/python3.10/dist-packages (from tensorflow<2.11,>=2.10.0->tensorflow-text) (1.16.0)\n",
            "Requirement already satisfied: tensorboard<2.11,>=2.10 in /usr/local/lib/python3.10/dist-packages (from tensorflow<2.11,>=2.10.0->tensorflow-text) (2.10.1)\n",
            "Requirement already satisfied: tensorflow-io-gcs-filesystem>=0.23.1 in /usr/local/lib/python3.10/dist-packages (from tensorflow<2.11,>=2.10.0->tensorflow-text) (0.37.1)\n",
            "Requirement already satisfied: tensorflow-estimator<2.11,>=2.10.0 in /usr/local/lib/python3.10/dist-packages (from tensorflow<2.11,>=2.10.0->tensorflow-text) (2.10.0)\n",
            "Requirement already satisfied: termcolor>=1.1.0 in /usr/local/lib/python3.10/dist-packages (from tensorflow<2.11,>=2.10.0->tensorflow-text) (2.4.0)\n",
            "Requirement already satisfied: typing-extensions>=3.6.6 in /usr/local/lib/python3.10/dist-packages (from tensorflow<2.11,>=2.10.0->tensorflow-text) (4.12.2)\n",
            "Requirement already satisfied: wrapt>=1.11.0 in /usr/local/lib/python3.10/dist-packages (from tensorflow<2.11,>=2.10.0->tensorflow-text) (1.16.0)\n",
            "Requirement already satisfied: tf-keras>=2.14.1 in /usr/local/lib/python3.10/dist-packages (from tensorflow-hub>=0.8.0->tensorflow-text) (2.15.0)\n",
            "Requirement already satisfied: wheel<1.0,>=0.23.0 in /usr/local/lib/python3.10/dist-packages (from astunparse>=1.6.0->tensorflow<2.11,>=2.10.0->tensorflow-text) (0.44.0)\n",
            "Requirement already satisfied: google-auth<3,>=1.6.3 in /usr/local/lib/python3.10/dist-packages (from tensorboard<2.11,>=2.10->tensorflow<2.11,>=2.10.0->tensorflow-text) (2.27.0)\n",
            "Requirement already satisfied: google-auth-oauthlib<0.5,>=0.4.1 in /usr/local/lib/python3.10/dist-packages (from tensorboard<2.11,>=2.10->tensorflow<2.11,>=2.10.0->tensorflow-text) (0.4.6)\n",
            "Requirement already satisfied: markdown>=2.6.8 in /usr/local/lib/python3.10/dist-packages (from tensorboard<2.11,>=2.10->tensorflow<2.11,>=2.10.0->tensorflow-text) (3.7)\n",
            "Requirement already satisfied: requests<3,>=2.21.0 in /usr/local/lib/python3.10/dist-packages (from tensorboard<2.11,>=2.10->tensorflow<2.11,>=2.10.0->tensorflow-text) (2.32.3)\n",
            "Requirement already satisfied: tensorboard-data-server<0.7.0,>=0.6.0 in /usr/local/lib/python3.10/dist-packages (from tensorboard<2.11,>=2.10->tensorflow<2.11,>=2.10.0->tensorflow-text) (0.6.1)\n",
            "Requirement already satisfied: tensorboard-plugin-wit>=1.6.0 in /usr/local/lib/python3.10/dist-packages (from tensorboard<2.11,>=2.10->tensorflow<2.11,>=2.10.0->tensorflow-text) (1.8.1)\n",
            "Requirement already satisfied: werkzeug>=1.0.1 in /usr/local/lib/python3.10/dist-packages (from tensorboard<2.11,>=2.10->tensorflow<2.11,>=2.10.0->tensorflow-text) (3.0.4)\n",
            "Requirement already satisfied: cachetools<6.0,>=2.0.0 in /usr/local/lib/python3.10/dist-packages (from google-auth<3,>=1.6.3->tensorboard<2.11,>=2.10->tensorflow<2.11,>=2.10.0->tensorflow-text) (5.5.0)\n",
            "Requirement already satisfied: pyasn1-modules>=0.2.1 in /usr/local/lib/python3.10/dist-packages (from google-auth<3,>=1.6.3->tensorboard<2.11,>=2.10->tensorflow<2.11,>=2.10.0->tensorflow-text) (0.4.1)\n",
            "Requirement already satisfied: rsa<5,>=3.1.4 in /usr/local/lib/python3.10/dist-packages (from google-auth<3,>=1.6.3->tensorboard<2.11,>=2.10->tensorflow<2.11,>=2.10.0->tensorflow-text) (4.9)\n",
            "Requirement already satisfied: requests-oauthlib>=0.7.0 in /usr/local/lib/python3.10/dist-packages (from google-auth-oauthlib<0.5,>=0.4.1->tensorboard<2.11,>=2.10->tensorflow<2.11,>=2.10.0->tensorflow-text) (1.3.1)\n",
            "Requirement already satisfied: charset-normalizer<4,>=2 in /usr/local/lib/python3.10/dist-packages (from requests<3,>=2.21.0->tensorboard<2.11,>=2.10->tensorflow<2.11,>=2.10.0->tensorflow-text) (3.3.2)\n",
            "Requirement already satisfied: idna<4,>=2.5 in /usr/local/lib/python3.10/dist-packages (from requests<3,>=2.21.0->tensorboard<2.11,>=2.10->tensorflow<2.11,>=2.10.0->tensorflow-text) (3.10)\n",
            "Requirement already satisfied: urllib3<3,>=1.21.1 in /usr/local/lib/python3.10/dist-packages (from requests<3,>=2.21.0->tensorboard<2.11,>=2.10->tensorflow<2.11,>=2.10.0->tensorflow-text) (2.2.3)\n",
            "Requirement already satisfied: certifi>=2017.4.17 in /usr/local/lib/python3.10/dist-packages (from requests<3,>=2.21.0->tensorboard<2.11,>=2.10->tensorflow<2.11,>=2.10.0->tensorflow-text) (2024.8.30)\n",
            "Requirement already satisfied: MarkupSafe>=2.1.1 in /usr/local/lib/python3.10/dist-packages (from werkzeug>=1.0.1->tensorboard<2.11,>=2.10->tensorflow<2.11,>=2.10.0->tensorflow-text) (2.1.5)\n",
            "Requirement already satisfied: pyasn1<0.7.0,>=0.4.6 in /usr/local/lib/python3.10/dist-packages (from pyasn1-modules>=0.2.1->google-auth<3,>=1.6.3->tensorboard<2.11,>=2.10->tensorflow<2.11,>=2.10.0->tensorflow-text) (0.6.1)\n",
            "Requirement already satisfied: oauthlib>=3.0.0 in /usr/local/lib/python3.10/dist-packages (from requests-oauthlib>=0.7.0->google-auth-oauthlib<0.5,>=0.4.1->tensorboard<2.11,>=2.10->tensorflow<2.11,>=2.10.0->tensorflow-text) (3.2.2)\n"
          ]
        }
      ],
      "source": [
        "!pip install tensorflow-text\n"
      ]
    },
    {
      "cell_type": "code",
      "execution_count": null,
      "metadata": {
        "colab": {
          "base_uri": "https://localhost:8080/"
        },
        "id": "U8l4RJ0XRPEm",
        "outputId": "dfef227c-ba4b-4447-d50a-6d065f2ca7c7"
      },
      "outputs": [
        {
          "name": "stdout",
          "output_type": "stream",
          "text": [
            "Requirement already satisfied: tqdm in /usr/local/lib/python3.10/dist-packages (4.66.5)\n"
          ]
        },
        {
          "name": "stderr",
          "output_type": "stream",
          "text": [
            "ERROR:absl:cannot import name 'builder' from 'google.protobuf.internal' (/usr/local/lib/python3.10/dist-packages/google/protobuf/internal/__init__.py)\n",
            "Traceback (most recent call last):\n",
            "  File \"/usr/local/lib/python3.10/dist-packages/tensorflow_datasets/__init__.py\", line 79, in <module>\n",
            "    from tensorflow_datasets import rlds  # pylint: disable=g-bad-import-order\n",
            "  File \"/usr/local/lib/python3.10/dist-packages/tensorflow_datasets/rlds/__init__.py\", line 21, in <module>\n",
            "    from tensorflow_datasets.rlds import envlogger_reader\n",
            "  File \"/usr/local/lib/python3.10/dist-packages/tensorflow_datasets/rlds/envlogger_reader.py\", line 21, in <module>\n",
            "    from tensorflow_datasets.core.utils.lazy_imports_utils import tree\n",
            "  File \"/usr/local/lib/python3.10/dist-packages/tensorflow_datasets/core/__init__.py\", line 22, in <module>\n",
            "    from tensorflow_datasets.core import community\n",
            "  File \"/usr/local/lib/python3.10/dist-packages/tensorflow_datasets/core/community/__init__.py\", line 19, in <module>\n",
            "    from tensorflow_datasets.core.community.huggingface_wrapper import mock_builtin_to_use_gfile\n",
            "  File \"/usr/local/lib/python3.10/dist-packages/tensorflow_datasets/core/community/huggingface_wrapper.py\", line 31, in <module>\n",
            "    from tensorflow_datasets.core import dataset_builder\n",
            "  File \"/usr/local/lib/python3.10/dist-packages/tensorflow_datasets/core/dataset_builder.py\", line 35, in <module>\n",
            "    from tensorflow_datasets.core import dataset_info\n",
            "  File \"/usr/local/lib/python3.10/dist-packages/tensorflow_datasets/core/dataset_info.py\", line 52, in <module>\n",
            "    from tensorflow_datasets.core import splits as splits_lib\n",
            "  File \"/usr/local/lib/python3.10/dist-packages/tensorflow_datasets/core/splits.py\", line 34, in <module>\n",
            "    from tensorflow_datasets.core import proto as proto_lib\n",
            "  File \"/usr/local/lib/python3.10/dist-packages/tensorflow_datasets/core/proto/__init__.py\", line 18, in <module>\n",
            "    from tensorflow_datasets.core.proto import dataset_info_generated_pb2 as dataset_info_pb2  # pylint: disable=line-too-long\n",
            "  File \"/usr/local/lib/python3.10/dist-packages/tensorflow_datasets/core/proto/dataset_info_generated_pb2.py\", line 25, in <module>\n",
            "    from google.protobuf.internal import builder as _builder\n",
            "ImportError: cannot import name 'builder' from 'google.protobuf.internal' (/usr/local/lib/python3.10/dist-packages/google/protobuf/internal/__init__.py)\n"
          ]
        }
      ],
      "source": [
        "#@title\n",
        "import concurrent.futures\n",
        "import collections\n",
        "import dataclasses\n",
        "import hashlib\n",
        "import itertools\n",
        "import json\n",
        "import math\n",
        "import os\n",
        "import pathlib\n",
        "import random\n",
        "import re\n",
        "import string\n",
        "import time\n",
        "import urllib.request\n",
        "\n",
        "import einops\n",
        "import matplotlib.pyplot as plt\n",
        "import numpy as np\n",
        "import pandas as pd\n",
        "from PIL import Image\n",
        "import requests\n",
        "!pip install tqdm\n",
        "import tqdm\n",
        "\n",
        "import tensorflow as tf\n",
        "import tensorflow_hub as hub\n",
        "import tensorflow_text as text\n",
        "import tensorflow_datasets as tfds"
      ]
    },
    {
      "cell_type": "markdown",
      "metadata": {
        "id": "Kl9qGnjWrv80"
      },
      "source": [
        "##  Data handling\n",
        "\n",
        "This section downloads a captions dataset and prepares it for training. It tokenizes the input text, and caches the results of running all the images through a pretrained feature-extractor model. It's not critical to understand everything in this section.\n",
        "\n",
        " <section class=\"expandable tfo-display-only-on-site\">\n",
        " <button type=\"button\" class=\"button-red button expand-control\">Toggle section</button>\n"
      ]
    },
    {
      "cell_type": "markdown",
      "metadata": {
        "id": "wqGXX9Dc5c0v"
      },
      "source": [
        "#### Flickr8k"
      ]
    },
    {
      "cell_type": "code",
      "execution_count": null,
      "metadata": {
        "id": "kaNy_l7tGuAZ"
      },
      "outputs": [],
      "source": [
        "def flickr8k(path='flickr8k'):\n",
        "  path = pathlib.Path(path)\n",
        "\n",
        "  if len(list(path.rglob('*'))) < 16197:\n",
        "    tf.keras.utils.get_file(\n",
        "        origin='https://github.com/jbrownlee/Datasets/releases/download/Flickr8k/Flickr8k_Dataset.zip',\n",
        "        cache_dir='.',\n",
        "        cache_subdir=path,\n",
        "        extract=True)\n",
        "    tf.keras.utils.get_file(\n",
        "        origin='https://github.com/jbrownlee/Datasets/releases/download/Flickr8k/Flickr8k_text.zip',\n",
        "        cache_dir='.',\n",
        "        cache_subdir=path,\n",
        "        extract=True)\n",
        "\n",
        "  captions = (path/\"Flickr8k.token.txt\").read_text().splitlines()\n",
        "  captions = (line.split('\\t') for line in captions)\n",
        "  captions = ((fname.split('#')[0], caption) for (fname, caption) in captions)\n",
        "\n",
        "  cap_dict = collections.defaultdict(list)\n",
        "  for fname, cap in captions:\n",
        "    cap_dict[fname].append(cap)\n",
        "\n",
        "  train_files = (path/'Flickr_8k.trainImages.txt').read_text().splitlines()\n",
        "  train_captions = [(str(path/'Flicker8k_Dataset'/fname), cap_dict[fname]) for fname in train_files]\n",
        "\n",
        "  test_files = (path/'Flickr_8k.testImages.txt').read_text().splitlines()\n",
        "  test_captions = [(str(path/'Flicker8k_Dataset'/fname), cap_dict[fname]) for fname in test_files]\n",
        "\n",
        "  train_ds = tf.data.experimental.from_list(train_captions)\n",
        "  test_ds = tf.data.experimental.from_list(test_captions)\n",
        "\n",
        "  return train_ds, test_ds"
      ]
    },
    {
      "cell_type": "markdown",
      "metadata": {
        "id": "zQICBAF4FmSL"
      },
      "source": [
        "#### Conceptual Captions"
      ]
    },
    {
      "cell_type": "code",
      "execution_count": null,
      "metadata": {
        "id": "vQwnxXZXRl12"
      },
      "outputs": [],
      "source": [
        "def conceptual_captions(*, data_dir=\"conceptual_captions\", num_train, num_val):\n",
        "  def iter_index(index_path):\n",
        "    with open(index_path) as f:\n",
        "      for line in f:\n",
        "        caption, url = line.strip().split('\\t')\n",
        "        yield caption, url\n",
        "\n",
        "  def download_image_urls(data_dir, urls):\n",
        "    ex = concurrent.futures.ThreadPoolExecutor(max_workers=100)\n",
        "    def save_image(url):\n",
        "      hash = hashlib.sha1(url.encode())\n",
        "      # Name the files after the hash of the URL.\n",
        "      file_path = data_dir/f'{hash.hexdigest()}.jpeg'\n",
        "      if file_path.exists():\n",
        "        # Only download each file once.\n",
        "        return file_path\n",
        "\n",
        "      try:\n",
        "        result = requests.get(url, timeout=5)\n",
        "      except Exception:\n",
        "        file_path = None\n",
        "      else:\n",
        "        file_path.write_bytes(result.content)\n",
        "      return file_path\n",
        "\n",
        "    result = []\n",
        "    out_paths = ex.map(save_image, urls)\n",
        "    for file_path in tqdm.tqdm(out_paths, total=len(urls)):\n",
        "      result.append(file_path)\n",
        "\n",
        "    return result\n",
        "\n",
        "  def ds_from_index_file(index_path, data_dir, count):\n",
        "    data_dir.mkdir(exist_ok=True)\n",
        "    index = list(itertools.islice(iter_index(index_path), count))\n",
        "    captions = [caption for caption, url in index]\n",
        "    urls = [url for caption, url in index]\n",
        "\n",
        "    paths = download_image_urls(data_dir, urls)\n",
        "\n",
        "    new_captions = []\n",
        "    new_paths = []\n",
        "    for cap, path in zip(captions, paths):\n",
        "      if path is None:\n",
        "        # Download failed, so skip this pair.\n",
        "        continue\n",
        "      new_captions.append(cap)\n",
        "      new_paths.append(path)\n",
        "\n",
        "    new_paths = [str(p) for p in new_paths]\n",
        "\n",
        "    ds = tf.data.Dataset.from_tensor_slices((new_paths, new_captions))\n",
        "    ds = ds.map(lambda path,cap: (path, cap[tf.newaxis])) # 1 caption per image\n",
        "    return ds\n",
        "\n",
        "  data_dir = pathlib.Path(data_dir)\n",
        "  train_index_path = tf.keras.utils.get_file(\n",
        "    origin='https://storage.googleapis.com/gcc-data/Train/GCC-training.tsv',\n",
        "    cache_subdir=data_dir,\n",
        "    cache_dir='.')\n",
        "\n",
        "  val_index_path = tf.keras.utils.get_file(\n",
        "    origin='https://storage.googleapis.com/gcc-data/Validation/GCC-1.1.0-Validation.tsv',\n",
        "    cache_subdir=data_dir,\n",
        "    cache_dir='.')\n",
        "\n",
        "  train_raw = ds_from_index_file(train_index_path, data_dir=data_dir/'train', count=num_train)\n",
        "  test_raw = ds_from_index_file(val_index_path, data_dir=data_dir/'val', count=num_val)\n",
        "\n",
        "  return train_raw, test_raw"
      ]
    },
    {
      "cell_type": "markdown",
      "metadata": {
        "id": "rBAagBw5p-TM"
      },
      "source": [
        "#### Download the dataset"
      ]
    },
    {
      "cell_type": "markdown",
      "metadata": {
        "id": "WFtTZaobquNr"
      },
      "source": [
        "The Flickr8k is a good choice because it contains 5-captions per image, more data for a smaller download."
      ]
    },
    {
      "cell_type": "code",
      "execution_count": null,
      "metadata": {
        "colab": {
          "base_uri": "https://localhost:8080/"
        },
        "id": "EJySPbzJ4Wxw",
        "outputId": "672866a3-b16e-46ee-e8ff-db06f6951a2b"
      },
      "outputs": [
        {
          "name": "stdout",
          "output_type": "stream",
          "text": [
            "Downloading data from https://github.com/jbrownlee/Datasets/releases/download/Flickr8k/Flickr8k_Dataset.zip\n",
            "1115419746/1115419746 [==============================] - 14s 0us/step\n",
            "Downloading data from https://github.com/jbrownlee/Datasets/releases/download/Flickr8k/Flickr8k_text.zip\n",
            "2340801/2340801 [==============================] - 0s 0us/step\n"
          ]
        }
      ],
      "source": [
        "choose = 'flickr8k'\n",
        "\n",
        "if choose == 'flickr8k':\n",
        "  train_raw, test_raw = flickr8k()\n",
        "else:\n",
        "  train_raw, test_raw = conceptual_captions(num_train=10000, num_val=5000)"
      ]
    },
    {
      "cell_type": "markdown",
      "metadata": {
        "id": "-UAc275FHxm8"
      },
      "source": [
        "The loaders for both datasets above return `tf.data.Dataset`s containing `(image_path, captions)` pairs. The Flickr8k dataset contains 5 captions per image, while Conceptual Captions has 1:"
      ]
    },
    {
      "cell_type": "code",
      "execution_count": null,
      "metadata": {
        "colab": {
          "base_uri": "https://localhost:8080/"
        },
        "id": "sAQSps5F8RQI",
        "outputId": "87d3ec80-c6bc-4720-ff31-d686ff4dbb72"
      },
      "outputs": [
        {
          "data": {
            "text/plain": [
              "(TensorSpec(shape=(), dtype=tf.string, name=None),\n",
              " TensorSpec(shape=(5,), dtype=tf.string, name=None))"
            ]
          },
          "execution_count": 13,
          "metadata": {},
          "output_type": "execute_result"
        }
      ],
      "source": [
        "train_raw.element_spec"
      ]
    },
    {
      "cell_type": "code",
      "execution_count": null,
      "metadata": {
        "colab": {
          "base_uri": "https://localhost:8080/"
        },
        "id": "xIa0ZaP4tBez",
        "outputId": "b699607e-8b02-4cee-9a0e-993a6ecb7c2c"
      },
      "outputs": [
        {
          "name": "stdout",
          "output_type": "stream",
          "text": [
            "tf.Tensor(b'flickr8k/Flicker8k_Dataset/2513260012_03d33305cf.jpg', shape=(), dtype=string)\n",
            "tf.Tensor(\n",
            "[b'A black dog is running after a white dog in the snow .'\n",
            " b'Black dog chasing brown dog through snow'\n",
            " b'Two dogs chase each other across the snowy ground .'\n",
            " b'Two dogs play together in the snow .'\n",
            " b'Two dogs running through a low lying body of water .'], shape=(5,), dtype=string)\n"
          ]
        }
      ],
      "source": [
        "for ex_path, ex_captions in train_raw.take(1):\n",
        "  print(ex_path)\n",
        "  print(ex_captions)"
      ]
    },
    {
      "cell_type": "markdown",
      "metadata": {
        "id": "8cSW4u-ORPFQ"
      },
      "source": [
        "### Image feature extractor\n",
        "\n",
        "We will use an image model (pretrained on imagenet) to extract the features from each image. The model was trained as an image classifier, but setting `include_top=False` returns the model without the final classification layer, so you can use the last layer of feature-maps:  \n"
      ]
    },
    {
      "cell_type": "code",
      "execution_count": null,
      "metadata": {
        "colab": {
          "base_uri": "https://localhost:8080/"
        },
        "id": "IlUckK8Zfikv",
        "outputId": "c55c36bd-c57a-4ac9-a8a2-4ddedca903fa"
      },
      "outputs": [
        {
          "name": "stdout",
          "output_type": "stream",
          "text": [
            "Downloading data from https://storage.googleapis.com/tensorflow/keras-applications/mobilenet_v3/weights_mobilenet_v3_small_224_1.0_float_no_top_v2.h5\n",
            "4334752/4334752 [==============================] - 0s 0us/step\n"
          ]
        }
      ],
      "source": [
        "IMAGE_SHAPE=(224, 224, 3)\n",
        "mobilenet = tf.keras.applications.MobileNetV3Small(\n",
        "    input_shape=IMAGE_SHAPE,\n",
        "    include_top=False,\n",
        "    include_preprocessing=True)\n",
        "mobilenet.trainable=False"
      ]
    },
    {
      "cell_type": "code",
      "execution_count": null,
      "metadata": {
        "id": "zXR0217aRPFR"
      },
      "outputs": [],
      "source": [
        "def load_image(image_path):\n",
        "    img = tf.io.read_file(image_path)\n",
        "    img = tf.io.decode_jpeg(img, channels=3)\n",
        "    img = tf.image.resize(img, IMAGE_SHAPE[:-1])\n",
        "    return img"
      ]
    },
    {
      "cell_type": "markdown",
      "metadata": {
        "id": "-JyQ7zS6gzZh"
      },
      "source": [
        "The model returns a feature map for each image in the input batch:"
      ]
    },
    {
      "cell_type": "code",
      "execution_count": null,
      "metadata": {
        "colab": {
          "base_uri": "https://localhost:8080/"
        },
        "id": "sY86n2i6wJNm",
        "outputId": "d866c92a-49a0-45a7-d905-9cdac446abf8"
      },
      "outputs": [
        {
          "name": "stdout",
          "output_type": "stream",
          "text": [
            "(1, 224, 224, 3)\n",
            "(1, 7, 7, 576)\n"
          ]
        }
      ],
      "source": [
        "test_img_batch = load_image(ex_path)[tf.newaxis, :]\n",
        "\n",
        "print(test_img_batch.shape)\n",
        "print(mobilenet(test_img_batch).shape)"
      ]
    },
    {
      "cell_type": "code",
      "execution_count": null,
      "metadata": {
        "id": "NroZIzB90hD3"
      },
      "outputs": [],
      "source": [
        "def standardize(s):\n",
        "  s = tf.strings.lower(s)\n",
        "  s = tf.strings.regex_replace(s, f'[{re.escape(string.punctuation)}]', '')\n",
        "  s = tf.strings.join(['[START]', s, '[END]'], separator=' ')\n",
        "  return s"
      ]
    },
    {
      "cell_type": "code",
      "execution_count": null,
      "metadata": {
        "id": "n9SQOXFsyS36"
      },
      "outputs": [],
      "source": [
        "# Use the top 5000 words for a vocabulary.\n",
        "vocabulary_size = 5000\n",
        "tokenizer = tf.keras.layers.TextVectorization(\n",
        "    max_tokens=vocabulary_size,\n",
        "    standardize=standardize,\n",
        "    ragged=True)\n",
        "# Learn the vocabulary from the caption data."
      ]
    },
    {
      "cell_type": "code",
      "execution_count": null,
      "metadata": {
        "id": "oJGE34aiRPFo"
      },
      "outputs": [],
      "source": [
        "tokenizer.adapt(train_raw.map(lambda fp,txt: txt).unbatch().batch(1024))"
      ]
    },
    {
      "cell_type": "code",
      "execution_count": null,
      "metadata": {
        "colab": {
          "base_uri": "https://localhost:8080/"
        },
        "id": "oRahTDtWhJIf",
        "outputId": "0ad06e43-29a1-4f3d-b6d4-488c0e5f08a8"
      },
      "outputs": [
        {
          "data": {
            "text/plain": [
              "['', '[UNK]', 'a', '[START]', '[END]', 'in', 'the', 'on', 'is', 'and']"
            ]
          },
          "execution_count": 21,
          "metadata": {},
          "output_type": "execute_result"
        }
      ],
      "source": [
        "tokenizer.get_vocabulary()[:10]"
      ]
    },
    {
      "cell_type": "code",
      "execution_count": null,
      "metadata": {
        "colab": {
          "base_uri": "https://localhost:8080/"
        },
        "id": "-2mGxD33JCxN",
        "outputId": "24cc6533-4d78-4160-c65f-623421351272"
      },
      "outputs": [
        {
          "data": {
            "text/plain": [
              "<tf.RaggedTensor [[3, 2, 655, 5, 2, 97, 4], [3, 2, 1937, 10, 4]]>"
            ]
          },
          "execution_count": 22,
          "metadata": {},
          "output_type": "execute_result"
        }
      ],
      "source": [
        "t = tokenizer([['a cat in a hat'], ['a robot dog']])\n",
        "t"
      ]
    },
    {
      "cell_type": "code",
      "execution_count": null,
      "metadata": {
        "id": "8Q44tNQVRPFt"
      },
      "outputs": [],
      "source": [
        "# Create mappings for words to indices and indices to words.\n",
        "word_to_index = tf.keras.layers.StringLookup(\n",
        "    mask_token=\"\",\n",
        "    vocabulary=tokenizer.get_vocabulary())\n",
        "index_to_word = tf.keras.layers.StringLookup(\n",
        "    mask_token=\"\",\n",
        "    vocabulary=tokenizer.get_vocabulary(),\n",
        "    invert=True)"
      ]
    },
    {
      "cell_type": "code",
      "execution_count": null,
      "metadata": {
        "colab": {
          "base_uri": "https://localhost:8080/"
        },
        "id": "qo-cfCX3LnHs",
        "outputId": "9ce8094e-27ec-483c-e504-cac89cd1f665"
      },
      "outputs": [
        {
          "data": {
            "text/plain": [
              "[[b'[START]', b'a', b'cat', b'in', b'a', b'hat', b'[END]'],\n",
              " [b'[START]', b'a', b'robot', b'dog', b'[END]']]"
            ]
          },
          "execution_count": 24,
          "metadata": {},
          "output_type": "execute_result"
        }
      ],
      "source": [
        "w = index_to_word(t)\n",
        "w.to_list()"
      ]
    },
    {
      "cell_type": "code",
      "execution_count": null,
      "metadata": {
        "colab": {
          "base_uri": "https://localhost:8080/"
        },
        "id": "rrUUfGc65vAT",
        "outputId": "608f68e8-3b29-4ff7-8a88-4eb4e4af726c"
      },
      "outputs": [
        {
          "data": {
            "text/plain": [
              "array([b'[START] a cat in a hat [END]', b'[START] a robot dog [END]'],\n",
              "      dtype=object)"
            ]
          },
          "execution_count": 25,
          "metadata": {},
          "output_type": "execute_result"
        }
      ],
      "source": [
        "tf.strings.reduce_join(w, separator=' ', axis=-1).numpy()"
      ]
    },
    {
      "cell_type": "markdown",
      "metadata": {
        "id": "uEWM9xrYcg45"
      },
      "source": [
        "### Prepare the datasets"
      ]
    },
    {
      "cell_type": "markdown",
      "metadata": {
        "id": "6aX0Z_98S2tN"
      },
      "source": [
        "The `train_raw` and `test_raw` datasets contain 1:many `(image, captions)` pairs.\n",
        "\n",
        "This function will replicate the image so there are 1:1 images to captions:"
      ]
    },
    {
      "cell_type": "code",
      "execution_count": null,
      "metadata": {
        "id": "3_Lqwl9NiGT0"
      },
      "outputs": [],
      "source": [
        "def match_shapes(images, captions):\n",
        "  caption_shape = einops.parse_shape(captions, 'b c')\n",
        "  captions = einops.rearrange(captions, 'b c -> (b c)')\n",
        "  images = einops.repeat(\n",
        "      images, 'b ... -> (b c) ...',\n",
        "      c = caption_shape['c'])\n",
        "  return images, captions"
      ]
    },
    {
      "cell_type": "code",
      "execution_count": null,
      "metadata": {
        "colab": {
          "base_uri": "https://localhost:8080/"
        },
        "id": "CZGUsuGzUfzt",
        "outputId": "266edfcd-b682-433a-95a8-ef6f33872a0b"
      },
      "outputs": [
        {
          "name": "stdout",
          "output_type": "stream",
          "text": [
            "image paths: (32,)\n",
            "captions: (32, 5)\n",
            "\n",
            "image_paths: (160,)\n",
            "captions: (160,)\n"
          ]
        }
      ],
      "source": [
        "for ex_paths, ex_captions in train_raw.batch(32).take(1):\n",
        "  break\n",
        "\n",
        "print('image paths:', ex_paths.shape)\n",
        "print('captions:', ex_captions.shape)\n",
        "print()\n",
        "\n",
        "ex_paths, ex_captions = match_shapes(images=ex_paths, captions=ex_captions)\n",
        "\n",
        "print('image_paths:', ex_paths.shape)\n",
        "print('captions:', ex_captions.shape)\n"
      ]
    },
    {
      "cell_type": "code",
      "execution_count": null,
      "metadata": {
        "id": "2DsgQ_hZT4C2"
      },
      "outputs": [],
      "source": [
        "def prepare_txt(imgs, txts):\n",
        "  tokens = tokenizer(txts)\n",
        "\n",
        "  input_tokens = tokens[..., :-1]\n",
        "  label_tokens = tokens[..., 1:]\n",
        "  return (imgs, input_tokens), label_tokens"
      ]
    },
    {
      "cell_type": "code",
      "execution_count": null,
      "metadata": {
        "id": "4_Pt9zldjQ0q"
      },
      "outputs": [],
      "source": [
        "def prepare_dataset(ds, tokenizer, batch_size=32, shuffle_buffer=1000):\n",
        "  # Load the images and make batches.\n",
        "  ds = (ds\n",
        "        .shuffle(10000)\n",
        "        .map(lambda path, caption: (load_image(path), caption))\n",
        "        .apply(tf.data.experimental.ignore_errors())\n",
        "        .batch(batch_size))\n",
        "\n",
        "  def to_tensor(inputs, labels):\n",
        "    (images, in_tok), out_tok = inputs, labels\n",
        "    return (images, in_tok.to_tensor()), out_tok.to_tensor()\n",
        "\n",
        "  return (ds\n",
        "          .map(match_shapes, tf.data.AUTOTUNE)\n",
        "          .unbatch()\n",
        "          .shuffle(shuffle_buffer)\n",
        "          .batch(batch_size)\n",
        "          .map(prepare_txt, tf.data.AUTOTUNE)\n",
        "          .map(to_tensor, tf.data.AUTOTUNE)\n",
        "          )"
      ]
    },
    {
      "cell_type": "markdown",
      "metadata": {
        "id": "LrQ85t1GNfpQ"
      },
      "source": [
        "You could install the feature extractor in your model and train on the datasets like this:"
      ]
    },
    {
      "cell_type": "code",
      "execution_count": null,
      "metadata": {
        "colab": {
          "base_uri": "https://localhost:8080/"
        },
        "id": "1KlhOG5cjQ0r",
        "outputId": "4ec1d82c-0f07-42cd-ef6c-a6956d76410e"
      },
      "outputs": [
        {
          "data": {
            "text/plain": [
              "((TensorSpec(shape=(None, 224, 224, 3), dtype=tf.float32, name=None),\n",
              "  TensorSpec(shape=(None, None), dtype=tf.int64, name=None)),\n",
              " TensorSpec(shape=(None, None), dtype=tf.int64, name=None))"
            ]
          },
          "execution_count": 30,
          "metadata": {},
          "output_type": "execute_result"
        }
      ],
      "source": [
        "train_ds = prepare_dataset(train_raw, tokenizer)\n",
        "train_ds.element_spec"
      ]
    },
    {
      "cell_type": "code",
      "execution_count": null,
      "metadata": {
        "colab": {
          "base_uri": "https://localhost:8080/"
        },
        "id": "d7Zy9F3zX7i2",
        "outputId": "9d0f6fcc-6120-48c0-9d14-27e058ecb52c"
      },
      "outputs": [
        {
          "data": {
            "text/plain": [
              "((TensorSpec(shape=(None, 224, 224, 3), dtype=tf.float32, name=None),\n",
              "  TensorSpec(shape=(None, None), dtype=tf.int64, name=None)),\n",
              " TensorSpec(shape=(None, None), dtype=tf.int64, name=None))"
            ]
          },
          "execution_count": 31,
          "metadata": {},
          "output_type": "execute_result"
        }
      ],
      "source": [
        "test_ds = prepare_dataset(test_raw, tokenizer)\n",
        "test_ds.element_spec"
      ]
    },
    {
      "cell_type": "markdown",
      "metadata": {
        "id": "XZyKygJ8S8zW"
      },
      "source": [
        "### Cache the image features"
      ]
    },
    {
      "cell_type": "code",
      "execution_count": null,
      "metadata": {
        "id": "9N1MX5ym6xm5"
      },
      "outputs": [],
      "source": [
        "def save_dataset(ds, save_path, image_model, tokenizer, shards=10, batch_size=32):\n",
        "  # Load the images and make batches.\n",
        "  ds = (ds\n",
        "        .map(lambda path, caption: (load_image(path), caption))\n",
        "        .apply(tf.data.experimental.ignore_errors())\n",
        "        .batch(batch_size))\n",
        "\n",
        "  # Run the feature extractor on each batch\n",
        "  # Don't do this in a .map, because tf.data runs on the CPU.\n",
        "  def gen():\n",
        "    for (images, captions) in tqdm.tqdm(ds):\n",
        "      feature_maps = image_model(images)\n",
        "\n",
        "      feature_maps, captions = match_shapes(feature_maps, captions)\n",
        "      yield feature_maps, captions\n",
        "\n",
        "  # Wrap the generator in a new tf.data.Dataset.\n",
        "  new_ds = tf.data.Dataset.from_generator(\n",
        "      gen,\n",
        "      output_signature=(\n",
        "          tf.TensorSpec(shape=image_model.output_shape),\n",
        "          tf.TensorSpec(shape=(None,), dtype=tf.string)))\n",
        "\n",
        "  # Apply the tokenization\n",
        "  new_ds = (new_ds\n",
        "            .map(prepare_txt, tf.data.AUTOTUNE)\n",
        "            .unbatch()\n",
        "            .shuffle(1000))\n",
        "\n",
        "  # Save the dataset into shard files.\n",
        "  def shard_func(i, item):\n",
        "    return i % shards\n",
        "  new_ds.enumerate().save(save_path, shard_func=shard_func)\n",
        "\n",
        "def load_dataset(save_path, batch_size=32, shuffle=1000, cycle_length=2):\n",
        "  def custom_reader_func(datasets):\n",
        "    datasets = datasets.shuffle(1000)\n",
        "    return datasets.interleave(lambda x: x, cycle_length=cycle_length)\n",
        "\n",
        "  ds = tf.data.Dataset.load(save_path, reader_func=custom_reader_func)\n",
        "\n",
        "  def drop_index(i, x):\n",
        "    return x\n",
        "\n",
        "  ds = (ds\n",
        "        .map(drop_index, tf.data.AUTOTUNE)\n",
        "        .shuffle(shuffle)\n",
        "        .padded_batch(batch_size)\n",
        "        .prefetch(tf.data.AUTOTUNE))\n",
        "  return ds"
      ]
    },
    {
      "cell_type": "code",
      "execution_count": null,
      "metadata": {
        "colab": {
          "base_uri": "https://localhost:8080/"
        },
        "id": "tNdzrenxB3Yy",
        "outputId": "836f3a63-8515-41bb-b5ac-fdd6f87a158f"
      },
      "outputs": [
        {
          "name": "stderr",
          "output_type": "stream",
          "text": [
            "188it [02:19,  1.34it/s]\n",
            "32it [00:21,  1.52it/s]\n"
          ]
        }
      ],
      "source": [
        "save_dataset(train_raw, 'train_cache', mobilenet, tokenizer)\n",
        "save_dataset(test_raw, 'test_cache', mobilenet, tokenizer)"
      ]
    },
    {
      "cell_type": "markdown",
      "metadata": {
        "id": "798DtfH51UI8"
      },
      "source": [
        " </section>\n"
      ]
    },
    {
      "cell_type": "markdown",
      "metadata": {
        "id": "GI265LiDslr2"
      },
      "source": [
        "## Data ready for training\n",
        "\n",
        "After those preprocessing steps, here are the datasets:"
      ]
    },
    {
      "cell_type": "code",
      "execution_count": null,
      "metadata": {
        "id": "Pwic2YCjHZmV"
      },
      "outputs": [],
      "source": [
        "train_ds = load_dataset('train_cache')\n",
        "test_ds = load_dataset('test_cache')"
      ]
    },
    {
      "cell_type": "code",
      "execution_count": null,
      "metadata": {
        "colab": {
          "base_uri": "https://localhost:8080/"
        },
        "id": "3B80JXj7HloX",
        "outputId": "a363f842-5709-466a-eb82-27be3ffb38b7"
      },
      "outputs": [
        {
          "data": {
            "text/plain": [
              "((TensorSpec(shape=(None, 7, 7, 576), dtype=tf.float32, name=None),\n",
              "  TensorSpec(shape=(None, None), dtype=tf.int64, name=None)),\n",
              " TensorSpec(shape=(None, None), dtype=tf.int64, name=None))"
            ]
          },
          "execution_count": 35,
          "metadata": {},
          "output_type": "execute_result"
        }
      ],
      "source": [
        "train_ds.element_spec"
      ]
    },
    {
      "cell_type": "code",
      "execution_count": null,
      "metadata": {
        "colab": {
          "base_uri": "https://localhost:8080/"
        },
        "id": "YJBEwuXLZQdw",
        "outputId": "d4bdc362-f816-41fa-e1c6-445e254df862"
      },
      "outputs": [
        {
          "name": "stdout",
          "output_type": "stream",
          "text": [
            "(32, 7, 7, 576)\n",
            "(32, 24)\n",
            "(32, 24)\n"
          ]
        }
      ],
      "source": [
        "for (inputs, ex_labels) in train_ds.take(1):\n",
        "  (ex_img, ex_in_tok) = inputs\n",
        "\n",
        "print(ex_img.shape)\n",
        "print(ex_in_tok.shape)\n",
        "print(ex_labels.shape)"
      ]
    },
    {
      "cell_type": "code",
      "execution_count": null,
      "metadata": {
        "colab": {
          "base_uri": "https://localhost:8080/"
        },
        "id": "V7h5UGftn1hT",
        "outputId": "dbb2a856-396d-4499-ead1-07430b8fbf62"
      },
      "outputs": [
        {
          "name": "stdout",
          "output_type": "stream",
          "text": [
            "[  3  45  46 155  92 242 230 122   7 131   0   0   0   0   0   0   0   0\n",
            "   0   0   0   0   0   0]\n",
            "[ 45  46 155  92 242 230 122   7 131   4   0   0   0   0   0   0   0   0\n",
            "   0   0   0   0   0   0]\n"
          ]
        }
      ],
      "source": [
        "print(ex_in_tok[0].numpy())\n",
        "print(ex_labels[0].numpy())"
      ]
    },
    {
      "cell_type": "markdown",
      "metadata": {
        "id": "DfICM49WFpIb"
      },
      "source": [
        "## A Transformer decoder model"
      ]
    },
    {
      "cell_type": "markdown",
      "metadata": {
        "id": "ONyjuWsmZoyO"
      },
      "source": [
        "This model assumes that the pretrained image encoder is sufficient, and just focuses on building the text decoder. This tutorial uses a 2-layer Transformer-decoder.\n",
        "\n",
        "\n",
        "\n",
        "\n",
        "<table>\n",
        "<tr>\n",
        "  <th>The Transformer encoder and decoder.</th>\n",
        "</tr>\n",
        "<tr>\n",
        "  <td>\n",
        "   <img width=400 src=\"https://www.tensorflow.org/images/tutorials/transformer/Transformer-1layer-words.png\"/>\n",
        "  </td>\n",
        "</tr>\n",
        "</table>"
      ]
    },
    {
      "cell_type": "markdown",
      "metadata": {
        "id": "_ngm3SQMCaYU"
      },
      "source": [
        "### Input"
      ]
    },
    {
      "cell_type": "markdown",
      "metadata": {
        "id": "II1mD-bBCdMB"
      },
      "source": [
        "### Decoder"
      ]
    },
    {
      "cell_type": "code",
      "execution_count": null,
      "metadata": {
        "id": "P91LU2F0a9Ga"
      },
      "outputs": [],
      "source": [
        "class SeqEmbedding(tf.keras.layers.Layer):\n",
        "  def __init__(self, vocab_size, max_length, depth):\n",
        "    super().__init__()\n",
        "    self.pos_embedding = tf.keras.layers.Embedding(input_dim=max_length, output_dim=depth)\n",
        "\n",
        "    self.token_embedding = tf.keras.layers.Embedding(\n",
        "        input_dim=vocab_size,\n",
        "        output_dim=depth,\n",
        "        mask_zero=True)\n",
        "\n",
        "    self.add = tf.keras.layers.Add()\n",
        "\n",
        "  def call(self, seq):\n",
        "    seq = self.token_embedding(seq) # (batch, seq, depth)\n",
        "\n",
        "    x = tf.range(tf.shape(seq)[1])  # (seq)\n",
        "    x = x[tf.newaxis, :]  # (1, seq)\n",
        "    x = self.pos_embedding(x)  # (1, seq, depth)\n",
        "\n",
        "    return self.add([seq,x])"
      ]
    },
    {
      "cell_type": "markdown",
      "metadata": {
        "id": "GHMLeMtKPTCW"
      },
      "source": [
        "The decoder is a standard Transformer-decoder, it contains a stack of `DecoderLayers` where each contains three sublayers: a `CausalSelfAttention`, a `CrossAttention`, and a`FeedForward`. The implementations are almost identical to the [Transformer tutorial](https://www.tensorflow.org/text/tutorials/transformer), refer to it for more details.\n",
        "\n",
        "The `CausalSelfAttention` layer is below:"
      ]
    },
    {
      "cell_type": "code",
      "execution_count": null,
      "metadata": {
        "id": "6JTLiX3lKooQ"
      },
      "outputs": [],
      "source": [
        "class CausalSelfAttention(tf.keras.layers.Layer):\n",
        "  def __init__(self, **kwargs):\n",
        "    super().__init__()\n",
        "    self.mha = tf.keras.layers.MultiHeadAttention(**kwargs)\n",
        "    # Use Add instead of + so the keras mask propagates through.\n",
        "    self.add = tf.keras.layers.Add()\n",
        "    self.layernorm = tf.keras.layers.LayerNormalization()\n",
        "\n",
        "  def call(self, x):\n",
        "    attn = self.mha(query=x, value=x,\n",
        "                    use_causal_mask=True)\n",
        "    x = self.add([x, attn])\n",
        "    return self.layernorm(x)\n"
      ]
    },
    {
      "cell_type": "markdown",
      "metadata": {
        "id": "8c66OTRwQfd8"
      },
      "source": [
        "The `CrossAttention` layer is below. Note the use of `return_attention_scores`."
      ]
    },
    {
      "cell_type": "code",
      "execution_count": null,
      "metadata": {
        "id": "rIY6Vu2pLBAO"
      },
      "outputs": [],
      "source": [
        "class CrossAttention(tf.keras.layers.Layer):\n",
        "  def __init__(self,**kwargs):\n",
        "    super().__init__()\n",
        "    self.mha = tf.keras.layers.MultiHeadAttention(**kwargs)\n",
        "    self.add = tf.keras.layers.Add()\n",
        "    self.layernorm = tf.keras.layers.LayerNormalization()\n",
        "\n",
        "  def call(self, x, y, **kwargs):\n",
        "    attn, attention_scores = self.mha(\n",
        "             query=x, value=y,\n",
        "             return_attention_scores=True)\n",
        "\n",
        "    self.last_attention_scores = attention_scores\n",
        "\n",
        "    x = self.add([x, attn])\n",
        "    return self.layernorm(x)"
      ]
    },
    {
      "cell_type": "markdown",
      "metadata": {
        "id": "8Hn5p6f-RE0C"
      },
      "source": [
        "The `FeedForward` layer is below. Remember that a `layers.Dense` layer is applied to the last axis of the input. The input will have a shape of `(batch, sequence, channels)`, so it automatically applies pointwise across the `batch` and `sequence` axes.  "
      ]
    },
    {
      "cell_type": "code",
      "execution_count": null,
      "metadata": {
        "id": "cWKrl7teOnH2"
      },
      "outputs": [],
      "source": [
        "class FeedForward(tf.keras.layers.Layer):\n",
        "  def __init__(self, units, dropout_rate=0.1):\n",
        "    super().__init__()\n",
        "    self.seq = tf.keras.Sequential([\n",
        "        tf.keras.layers.Dense(units=2*units, activation='relu'),\n",
        "        tf.keras.layers.Dense(units=units),\n",
        "        tf.keras.layers.Dropout(rate=dropout_rate),\n",
        "    ])\n",
        "\n",
        "    self.layernorm = tf.keras.layers.LayerNormalization()\n",
        "\n",
        "  def call(self, x):\n",
        "    x = x + self.seq(x)\n",
        "    return self.layernorm(x)\n"
      ]
    },
    {
      "cell_type": "markdown",
      "metadata": {
        "id": "lbXoiVNPRoJc"
      },
      "source": [
        "Next arrange these three layers into a larger `DecoderLayer`. Each decoder layer applies the three smaller layers in sequence. After each sublayer the shape of `out_seq` is `(batch, sequence, channels)`. The decoder layer also returns the `attention_scores` for later visualizations."
      ]
    },
    {
      "cell_type": "code",
      "execution_count": null,
      "metadata": {
        "id": "ydcW5KZZHou7"
      },
      "outputs": [],
      "source": [
        "class DecoderLayer(tf.keras.layers.Layer):\n",
        "  def __init__(self, units, num_heads=1, dropout_rate=0.1):\n",
        "    super().__init__()\n",
        "\n",
        "    self.self_attention = CausalSelfAttention(num_heads=num_heads,\n",
        "                                              key_dim=units,\n",
        "                                              dropout=dropout_rate)\n",
        "    self.cross_attention = CrossAttention(num_heads=num_heads,\n",
        "                                          key_dim=units,\n",
        "                                          dropout=dropout_rate)\n",
        "    self.ff = FeedForward(units=units, dropout_rate=dropout_rate)\n",
        "\n",
        "\n",
        "  def call(self, inputs, training=False):\n",
        "    in_seq, out_seq = inputs\n",
        "\n",
        "    # Text input\n",
        "    out_seq = self.self_attention(out_seq)\n",
        "\n",
        "    out_seq = self.cross_attention(out_seq, in_seq)\n",
        "\n",
        "    self.last_attention_scores = self.cross_attention.last_attention_scores\n",
        "\n",
        "    out_seq = self.ff(out_seq)\n",
        "\n",
        "    return out_seq"
      ]
    },
    {
      "cell_type": "markdown",
      "metadata": {
        "id": "-lgbYrF5Csqu"
      },
      "source": [
        "### Output"
      ]
    },
    {
      "cell_type": "markdown",
      "metadata": {
        "id": "VcnKZkrklAQf"
      },
      "source": [
        "At minimum the output layer needs a `layers.Dense` layer to generate logit-predictions for each token at each location."
      ]
    },
    {
      "cell_type": "markdown",
      "metadata": {
        "id": "6WQD87efena5"
      },
      "source": [
        "But there are a few other features you can add to make this work a little better:\n",
        "\n",
        "1. **Handle bad tokens**: The model will be generating text. It should\n",
        "   never generate a pad, unknown, or start token (`''`, `'[UNK]'`,\n",
        "   `'[START]'`). So set the bias for these to a large negative value.\n",
        "\n",
        "   > Note: You'll need to ignore these tokens in the loss function as well.\n",
        "\n",
        "2. **Smart initialization**: The default initialization of a dense layer will\n",
        "  give a model that initially predicts each token with almost uniform\n",
        "  likelihood. The actual token distribution is far from uniform. The\n",
        "  optimal value for the initial bias of the output layer is the log of the\n",
        "  probability of each token. So include an `adapt` method to count the tokens\n",
        "  and set the optimal initial bias. This reduces the initial loss from the\n",
        "  entropy of the uniform distribution (`log(vocabulary_size)`) to the marginal\n",
        "  entropy of the distribution (`-p*log(p)`).\n"
      ]
    },
    {
      "cell_type": "code",
      "execution_count": null,
      "metadata": {
        "id": "CeWw2SFDHUfo"
      },
      "outputs": [],
      "source": [
        "#@title\n",
        "class TokenOutput(tf.keras.layers.Layer):\n",
        "  def __init__(self, tokenizer, banned_tokens=('', '[UNK]', '[START]'), **kwargs):\n",
        "    super().__init__()\n",
        "\n",
        "    self.dense = tf.keras.layers.Dense(\n",
        "        units=tokenizer.vocabulary_size(), **kwargs)\n",
        "    self.tokenizer = tokenizer\n",
        "    self.banned_tokens = banned_tokens\n",
        "\n",
        "    self.bias = None\n",
        "\n",
        "  def adapt(self, ds):\n",
        "    counts = collections.Counter()\n",
        "    vocab_dict = {name: id\n",
        "                  for id, name in enumerate(self.tokenizer.get_vocabulary())}\n",
        "\n",
        "    for tokens in tqdm.tqdm(ds):\n",
        "      counts.update(tokens.numpy().flatten())\n",
        "\n",
        "    counts_arr = np.zeros(shape=(self.tokenizer.vocabulary_size(),))\n",
        "    counts_arr[np.array(list(counts.keys()), dtype=np.int32)] = list(counts.values())\n",
        "\n",
        "    counts_arr = counts_arr[:]\n",
        "    for token in self.banned_tokens:\n",
        "      counts_arr[vocab_dict[token]] = 0\n",
        "\n",
        "    total = counts_arr.sum()\n",
        "    p = counts_arr/total\n",
        "    p[counts_arr==0] = 1.0\n",
        "    log_p = np.log(p)  # log(1) == 0\n",
        "\n",
        "    entropy = -(log_p*p).sum()\n",
        "\n",
        "    print()\n",
        "    print(f\"Uniform entropy: {np.log(self.tokenizer.vocabulary_size()):0.2f}\")\n",
        "    print(f\"Marginal entropy: {entropy:0.2f}\")\n",
        "\n",
        "    self.bias = log_p\n",
        "    self.bias[counts_arr==0] = -1e9\n",
        "\n",
        "  def call(self, x):\n",
        "    x = self.dense(x)\n",
        "    # TODO(b/250038731): Fix this.\n",
        "    # An Add layer doesn't work because of the different shapes.\n",
        "    # This clears the mask, that's okay because it prevents keras from rescaling\n",
        "    # the losses.\n",
        "    return x + self.bias\n"
      ]
    },
    {
      "cell_type": "markdown",
      "metadata": {
        "id": "xzQHqANd1A6Q"
      },
      "source": [
        "The smart initialization will significantly reduce the initial loss:"
      ]
    },
    {
      "cell_type": "code",
      "execution_count": null,
      "metadata": {
        "colab": {
          "base_uri": "https://localhost:8080/"
        },
        "id": "GGnOQyc501B2",
        "outputId": "f133a70f-d8d9-4916-f623-827aced3346f"
      },
      "outputs": [
        {
          "name": "stderr",
          "output_type": "stream",
          "text": [
            "100%|██████████| 938/938 [00:10<00:00, 91.43it/s] "
          ]
        },
        {
          "name": "stdout",
          "output_type": "stream",
          "text": [
            "\n",
            "Uniform entropy: 8.52\n",
            "Marginal entropy: 5.29\n"
          ]
        },
        {
          "name": "stderr",
          "output_type": "stream",
          "text": [
            "\n"
          ]
        }
      ],
      "source": [
        "output_layer = TokenOutput(tokenizer, banned_tokens=('', '[UNK]', '[START]'))\n",
        "# This might run a little faster if the dataset didn't also have to load the image data.\n",
        "output_layer.adapt(train_ds.map(lambda inputs, labels: labels))"
      ]
    },
    {
      "cell_type": "markdown",
      "metadata": {
        "id": "3gq-ICN7bD-u"
      },
      "source": [
        "### Build the model"
      ]
    },
    {
      "cell_type": "markdown",
      "metadata": {
        "id": "gou4fPH_SWgH"
      },
      "source": [
        "To build the model, you need to combine several parts:\n",
        "\n",
        "1. The image `feature_extractor` and the text `tokenizer` and.\n",
        "1. The `seq_embedding` layer, to convert batches of token-IDs to\n",
        "   vectors `(batch, sequence, channels)`.\n",
        "3. The stack of `DecoderLayers` layers that will process the text and image data.\n",
        "4. The `output_layer` which returns a pointwise prediction of what the next word should be."
      ]
    },
    {
      "cell_type": "code",
      "execution_count": null,
      "metadata": {
        "id": "bHCISYehH1f6"
      },
      "outputs": [],
      "source": [
        "class Captioner(tf.keras.Model):\n",
        "  @classmethod\n",
        "  def add_method(cls, fun):\n",
        "    setattr(cls, fun.__name__, fun)\n",
        "    return fun\n",
        "\n",
        "  def __init__(self, tokenizer, feature_extractor, output_layer, num_layers=1,\n",
        "               units=256, max_length=50, num_heads=1, dropout_rate=0.1):\n",
        "    super().__init__()\n",
        "    self.feature_extractor = feature_extractor\n",
        "    self.tokenizer = tokenizer\n",
        "    self.word_to_index = tf.keras.layers.StringLookup(\n",
        "        mask_token=\"\",\n",
        "        vocabulary=tokenizer.get_vocabulary())\n",
        "    self.index_to_word = tf.keras.layers.StringLookup(\n",
        "        mask_token=\"\",\n",
        "        vocabulary=tokenizer.get_vocabulary(),\n",
        "        invert=True)\n",
        "\n",
        "    self.seq_embedding = SeqEmbedding(\n",
        "        vocab_size=tokenizer.vocabulary_size(),\n",
        "        depth=units,\n",
        "        max_length=max_length)\n",
        "\n",
        "    self.decoder_layers = [\n",
        "        DecoderLayer(units, num_heads=num_heads, dropout_rate=dropout_rate)\n",
        "        for n in range(num_layers)]\n",
        "\n",
        "    self.output_layer = output_layer"
      ]
    },
    {
      "cell_type": "markdown",
      "metadata": {
        "id": "YW390dOz9T-x"
      },
      "source": [
        "When you call the model, for training, it receives an `image, txt` pair. To make this function more usable, be flexible about the input:\n",
        "\n",
        "* If the image has 3 channels run it through the feature_extractor. Otherwise assume that it has been already. Similarly\n",
        "* If the text has dtype `tf.string` run it through the tokenizer.\n",
        "\n",
        "After that running the model is only a few steps:\n",
        "\n",
        "1. Flatten the extracted image features, so they can be input to the decoder layers.\n",
        "2. Look up the token embeddings.\n",
        "3. Run the stack of `DecoderLayer`s, on the image features and text embeddings.\n",
        "4. Run the output layer to predict the next token at each position.\n"
      ]
    },
    {
      "cell_type": "code",
      "execution_count": null,
      "metadata": {
        "id": "lPdb7I4h9Ulo"
      },
      "outputs": [],
      "source": [
        "  @Captioner.add_method\n",
        "  def call(self, inputs):\n",
        "    image, txt = inputs\n",
        "\n",
        "    if image.shape[-1] == 3:\n",
        "      # Apply the feature-extractor, if you get an RGB image.\n",
        "      image = self.feature_extractor(image)\n",
        "\n",
        "    # Flatten the feature map\n",
        "    image = einops.rearrange(image, 'b h w c -> b (h w) c')\n",
        "\n",
        "\n",
        "    if txt.dtype == tf.string:\n",
        "      # Apply the tokenizer if you get string inputs.\n",
        "      txt = tokenizer(txt)\n",
        "\n",
        "    txt = self.seq_embedding(txt)\n",
        "\n",
        "    # Look at the image\n",
        "    for dec_layer in self.decoder_layers:\n",
        "      txt = dec_layer(inputs=(image, txt))\n",
        "\n",
        "    txt = self.output_layer(txt)\n",
        "\n",
        "    return txt"
      ]
    },
    {
      "cell_type": "code",
      "execution_count": null,
      "metadata": {
        "id": "kmM7aZQsLiyU"
      },
      "outputs": [],
      "source": [
        "model = Captioner(tokenizer, feature_extractor=mobilenet, output_layer=output_layer,\n",
        "                  units=256, dropout_rate=0.5, num_layers=2, num_heads=2)"
      ]
    },
    {
      "cell_type": "markdown",
      "metadata": {
        "id": "xGvOcLQKghXN"
      },
      "source": [
        "### Generate captions\n",
        "\n",
        "Before getting into training, write a bit of code to generate captions. You'll use this to see how training is progressing.\n",
        "\n",
        "Start by downloading a test image:"
      ]
    },
    {
      "cell_type": "code",
      "execution_count": null,
      "metadata": {
        "colab": {
          "base_uri": "https://localhost:8080/"
        },
        "id": "cwFcdMqC-jE2",
        "outputId": "9482cddb-d884-400d-b130-6eb222ec4997"
      },
      "outputs": [
        {
          "name": "stdout",
          "output_type": "stream",
          "text": [
            "Downloading data from https://media.istockphoto.com/id/1040907120/photo/young-girl-surfing-at-sunset.jpg?s=612x612&w=0&k=20&c=Q6h0zN4phcB9atvhUZu7nM3m_E2CpeKY8bphaKY2jbI=\n",
            "42185/42185 [==============================] - 0s 0us/step\n"
          ]
        }
      ],
      "source": [
        "image_url = 'https://media.istockphoto.com/id/1040907120/photo/young-girl-surfing-at-sunset.jpg?s=612x612&w=0&k=20&c=Q6h0zN4phcB9atvhUZu7nM3m_E2CpeKY8bphaKY2jbI='\n",
        "image_path = tf.keras.utils.get_file('surf.jpg', origin=image_url)\n",
        "image = load_image(image_path)"
      ]
    },
    {
      "cell_type": "markdown",
      "metadata": {
        "id": "IRBIiTkubmxA"
      },
      "source": [
        "To caption an image with this model:\n",
        "\n",
        "- Extract the `img_features`\n",
        "- Initialize the list of output tokens with a `[START]` token.\n",
        "- Pass `img_features` and `tokens` into the model.\n",
        "  - It returns a list of logits.\n",
        "  - Choose the next token based on those logits.  \n",
        "  - Add it to the list of tokens, and continue the loop.\n",
        "  - If it generates an `'[END]'` token, break out of the loop.\n",
        "\n",
        "So add a \"simple\" method to do just that:"
      ]
    },
    {
      "cell_type": "code",
      "execution_count": null,
      "metadata": {
        "id": "Nf1Jie9ef_Cg"
      },
      "outputs": [],
      "source": [
        "@Captioner.add_method\n",
        "def simple_gen(self, image, temperature=1):\n",
        "  initial = self.word_to_index([['[START]']]) # (batch, sequence)\n",
        "  img_features = self.feature_extractor(image[tf.newaxis, ...])\n",
        "\n",
        "  tokens = initial # (batch, sequence)\n",
        "  for n in range(50):\n",
        "    preds = self((img_features, tokens)).numpy()  # (batch, sequence, vocab)\n",
        "    preds = preds[:,-1, :]  #(batch, vocab)\n",
        "    if temperature==0:\n",
        "        next = tf.argmax(preds, axis=-1)[:, tf.newaxis]  # (batch, 1)\n",
        "    else:\n",
        "        next = tf.random.categorical(preds/temperature, num_samples=1)  # (batch, 1)\n",
        "    tokens = tf.concat([tokens, next], axis=1) # (batch, sequence)\n",
        "\n",
        "    if next[0] == self.word_to_index('[END]'):\n",
        "      break\n",
        "  words = index_to_word(tokens[0, 1:-1])\n",
        "  result = tf.strings.reduce_join(words, axis=-1, separator=' ')\n",
        "  return result.numpy().decode()"
      ]
    },
    {
      "cell_type": "markdown",
      "metadata": {
        "id": "TxN2NPX2zB8y"
      },
      "source": [
        "Here are some generated captions for that image, the model's untrained, so they don't make much sense yet:"
      ]
    },
    {
      "cell_type": "code",
      "execution_count": null,
      "metadata": {
        "colab": {
          "base_uri": "https://localhost:8080/"
        },
        "id": "sPm96CccvHnq",
        "outputId": "8d0a9f47-15ef-4bb5-e7ef-cdabacdd076a"
      },
      "outputs": [
        {
          "name": "stdout",
          "output_type": "stream",
          "text": [
            "a a a a a a a a a a a a a a a a a a a a a a a a a a a a a a a a a a a a a a a a a a a a a a a\n",
            "a a the\n",
            "while sitting woman with with is a from others\n"
          ]
        }
      ],
      "source": [
        "for t in (0.0, 0.5, 1.0):\n",
        "  result = model.simple_gen(image, temperature=t)\n",
        "  print(result)"
      ]
    },
    {
      "cell_type": "markdown",
      "metadata": {
        "id": "JefwCRZ8z-Ah"
      },
      "source": [
        "The temperature parameter allows you to interpolate between 3 modes:\n",
        "\n",
        "1. Greedy decoding (`temperature=0.0`) - Chooses the most likely next token at each step.\n",
        "2. Random sampling according to the logits (`temperature=1.0`).\n",
        "3. Uniform random sampling (`temperature >> 1.0`).\n",
        "\n",
        "Since the model is untrained, and it used the frequency-based initialization, the \"greedy\" output (first) usually only contains the most common tokens: `['a', '.', '[END]']`."
      ]
    },
    {
      "cell_type": "markdown",
      "metadata": {
        "id": "r0FpTvaPkqON"
      },
      "source": [
        "## Train"
      ]
    },
    {
      "cell_type": "markdown",
      "metadata": {
        "id": "IKcwZdqObK-U"
      },
      "source": [
        "To train the model we have used additional components:\n",
        "\n",
        "- The Loss and metrics\n",
        "- The Optimizer\n",
        "- Optional Callbacks"
      ]
    },
    {
      "cell_type": "markdown",
      "metadata": {
        "id": "g5IW2mWa2sAG"
      },
      "source": [
        "### Losses and metrics"
      ]
    },
    {
      "cell_type": "code",
      "execution_count": null,
      "metadata": {
        "id": "s24im3FqxAfT"
      },
      "outputs": [],
      "source": [
        "def masked_loss(labels, preds):\n",
        "  loss = tf.nn.sparse_softmax_cross_entropy_with_logits(labels, preds)\n",
        "\n",
        "  mask = (labels != 0) & (loss < 1e8)\n",
        "  mask = tf.cast(mask, loss.dtype)\n",
        "\n",
        "  loss = loss*mask\n",
        "  loss = tf.reduce_sum(loss)/tf.reduce_sum(mask)\n",
        "  return loss\n",
        "\n",
        "def masked_acc(labels, preds):\n",
        "  mask = tf.cast(labels!=0, tf.float32)\n",
        "  preds = tf.argmax(preds, axis=-1)\n",
        "  labels = tf.cast(labels, tf.int64)\n",
        "  match = tf.cast(preds == labels, mask.dtype)\n",
        "  acc = tf.reduce_sum(match*mask)/tf.reduce_sum(mask)\n",
        "  return acc"
      ]
    },
    {
      "cell_type": "markdown",
      "metadata": {
        "id": "zOhjHqgv3F2e"
      },
      "source": [
        "### Callbacks"
      ]
    },
    {
      "cell_type": "markdown",
      "metadata": {
        "id": "3dyQN9UfJYEd"
      },
      "source": [
        "For feedback during training setup a `keras.callbacks.Callback` to generate some captions for the surfer image at the end of each epoch."
      ]
    },
    {
      "cell_type": "code",
      "execution_count": null,
      "metadata": {
        "id": "IKDwbZOCZ-AP"
      },
      "outputs": [],
      "source": [
        "class GenerateText(tf.keras.callbacks.Callback):\n",
        "  def __init__(self):\n",
        "    image_url = 'https://tensorflow.org/images/surf.jpg'\n",
        "    image_path = tf.keras.utils.get_file('surf.jpg', origin=image_url)\n",
        "    self.image = load_image(image_path)\n",
        "\n",
        "  def on_epoch_end(self, epochs=None, logs=None):\n",
        "    print()\n",
        "    print()\n",
        "    for t in (0.0, 0.5, 1.0):\n",
        "      result = self.model.simple_gen(self.image, temperature=t)\n",
        "      print(result)\n",
        "    print()\n"
      ]
    },
    {
      "cell_type": "code",
      "execution_count": null,
      "metadata": {
        "colab": {
          "base_uri": "https://localhost:8080/"
        },
        "id": "IGVLpzo13rcA",
        "outputId": "f6caa06b-7a8f-4871-ab3f-ce29cd09bd06"
      },
      "outputs": [
        {
          "name": "stdout",
          "output_type": "stream",
          "text": [
            "\n",
            "\n",
            "a a a a a a a a a a a a a a a a a a a a a a a a a a a a a a a a a a a a a a a a a a a a a a a\n",
            "\n",
            "\n",
            "\n"
          ]
        }
      ],
      "source": [
        "g = GenerateText()\n",
        "g.model = model\n",
        "g.on_epoch_end(0)"
      ]
    },
    {
      "cell_type": "code",
      "execution_count": null,
      "metadata": {
        "id": "MjzrwGZp23xx"
      },
      "outputs": [],
      "source": [
        "callbacks = [\n",
        "    GenerateText(),\n",
        "    tf.keras.callbacks.EarlyStopping(\n",
        "        patience=5, restore_best_weights=True)]"
      ]
    },
    {
      "cell_type": "markdown",
      "metadata": {
        "id": "ZBaJhQpcG8u0"
      },
      "source": [
        "### Train"
      ]
    },
    {
      "cell_type": "code",
      "execution_count": null,
      "metadata": {
        "id": "2OR5ZpAII__u"
      },
      "outputs": [],
      "source": [
        "model.compile(optimizer=tf.keras.optimizers.Adam(learning_rate=1e-4),\n",
        "           loss=masked_loss,\n",
        "           metrics=[masked_acc])"
      ]
    },
    {
      "cell_type": "markdown",
      "metadata": {
        "id": "ro955bQ2KR0X"
      },
      "source": []
    },
    {
      "cell_type": "code",
      "execution_count": null,
      "metadata": {
        "colab": {
          "background_save": true,
          "base_uri": "https://localhost:8080/"
        },
        "id": "3aB0baOVMZe9",
        "outputId": "a2f9ecc9-7bb2-488a-98c3-e2f7cc4704cd"
      },
      "outputs": [
        {
          "name": "stdout",
          "output_type": "stream",
          "text": [
            "Epoch 1/100\n",
            "100/100 [==============================] - ETA: 0s - loss: 4.9896 - masked_acc: 0.2027\n",
            "\n",
            "a man in a man in a man\n",
            "a man is in the the in the a man\n",
            "a man is over black on the the camera on a building with a walks\n",
            "\n",
            "100/100 [==============================] - 53s 496ms/step - loss: 4.9896 - masked_acc: 0.2027 - val_loss: 4.6357 - val_masked_acc: 0.2466\n",
            "Epoch 2/100\n",
            "100/100 [==============================] - ETA: 0s - loss: 4.6434 - masked_acc: 0.2520\n",
            "\n",
            "a man in a red is in a man in a red\n",
            "a man in a man and a a a brown in the air\n",
            "a at red rides a clouds\n",
            "\n",
            "100/100 [==============================] - 47s 472ms/step - loss: 4.6434 - masked_acc: 0.2520 - val_loss: 4.3852 - val_masked_acc: 0.2673\n",
            "Epoch 3/100\n",
            "100/100 [==============================] - ETA: 0s - loss: 4.4038 - masked_acc: 0.2778\n",
            "\n",
            "a girl in a red shirt is is running\n",
            "a girl in a red water\n",
            "a young brown young boy is is running in the playing in the yard\n",
            "\n",
            "100/100 [==============================] - 48s 481ms/step - loss: 4.4038 - masked_acc: 0.2778 - val_loss: 4.1636 - val_masked_acc: 0.2915\n",
            "Epoch 4/100\n",
            "100/100 [==============================] - ETA: 0s - loss: 4.2426 - masked_acc: 0.2932\n",
            "\n",
            "a girl in a red shirt is running in a red\n",
            "a girl is jumping a the air\n",
            "five girl wearing a trick\n",
            "\n",
            "100/100 [==============================] - 47s 470ms/step - loss: 4.2426 - masked_acc: 0.2932 - val_loss: 4.0830 - val_masked_acc: 0.2988\n",
            "Epoch 5/100\n",
            "100/100 [==============================] - ETA: 0s - loss: 4.0960 - masked_acc: 0.3045\n",
            "\n",
            "a girl in a red shirt is running in the water\n",
            "a boy in a red shirt is swimming to orange blue and woman is in a man in a on a snowy water\n",
            "two sitting in the snow are wearing a bike\n",
            "\n",
            "100/100 [==============================] - 50s 501ms/step - loss: 4.0960 - masked_acc: 0.3045 - val_loss: 4.0100 - val_masked_acc: 0.3065\n",
            "Epoch 6/100\n",
            "100/100 [==============================] - ETA: 0s - loss: 4.0225 - masked_acc: 0.3145\n",
            "\n",
            "a girl in a blue shirt is running in the water\n",
            "a boy in a red shirt is running in the water\n",
            "a slides flies player in the black shirt is ball in water\n",
            "\n",
            "100/100 [==============================] - 59s 587ms/step - loss: 4.0225 - masked_acc: 0.3145 - val_loss: 3.8581 - val_masked_acc: 0.3270\n",
            "Epoch 7/100\n",
            "100/100 [==============================] - ETA: 0s - loss: 3.9377 - masked_acc: 0.3192\n",
            "\n",
            "a girl in a blue shirt is jumping in the water\n",
            "a young girl in a blue shirt is running in the water\n",
            "a row of air on a water\n",
            "\n",
            "100/100 [==============================] - 50s 495ms/step - loss: 3.9377 - masked_acc: 0.3192 - val_loss: 3.7432 - val_masked_acc: 0.3378\n",
            "Epoch 8/100\n",
            "100/100 [==============================] - ETA: 0s - loss: 3.8834 - masked_acc: 0.3291\n",
            "\n",
            "a boy in a blue shirt is jumping into a pool\n",
            "a girl in a air in a pool\n",
            "a girl in girls motorcycle sitting on a blue fence on with his holds into water\n",
            "\n",
            "100/100 [==============================] - 48s 476ms/step - loss: 3.8834 - masked_acc: 0.3291 - val_loss: 3.7333 - val_masked_acc: 0.3356\n",
            "Epoch 9/100\n",
            "100/100 [==============================] - ETA: 0s - loss: 3.8450 - masked_acc: 0.3325\n",
            "\n",
            "a girl in a blue shirt is standing on a pool\n",
            "a girl is dressed in the water\n",
            "a girl wearing a ball from a pool\n",
            "\n",
            "100/100 [==============================] - 49s 494ms/step - loss: 3.8450 - masked_acc: 0.3325 - val_loss: 3.6663 - val_masked_acc: 0.3350\n",
            "Epoch 10/100\n",
            "100/100 [==============================] - ETA: 0s - loss: 3.7158 - masked_acc: 0.3402\n",
            "\n",
            "a boy in a blue shirt is standing on a pool\n",
            "a boy in a blue and green shirt is standing in the water\n",
            "a girl looks on a boy day surrounded\n",
            "\n",
            "100/100 [==============================] - 48s 482ms/step - loss: 3.7158 - masked_acc: 0.3402 - val_loss: 3.6487 - val_masked_acc: 0.3485\n",
            "Epoch 11/100\n",
            "100/100 [==============================] - ETA: 0s - loss: 3.6510 - masked_acc: 0.3441\n",
            "\n",
            "a girl in a blue shirt is jumping over a pool\n",
            "a girl in the pool\n",
            "a boy looks hill in front of for the ocean\n",
            "\n",
            "100/100 [==============================] - 48s 475ms/step - loss: 3.6510 - masked_acc: 0.3441 - val_loss: 3.5891 - val_masked_acc: 0.3432\n",
            "Epoch 12/100\n",
            "100/100 [==============================] - ETA: 0s - loss: 3.6201 - masked_acc: 0.3457\n",
            "\n",
            "a girl is jumping into the water\n",
            "the girl is riding a pool\n",
            "blonde young girl playing in sunglasses is standing on a pool by a girl in the pool\n",
            "\n",
            "100/100 [==============================] - 48s 478ms/step - loss: 3.6201 - masked_acc: 0.3457 - val_loss: 3.5358 - val_masked_acc: 0.3542\n",
            "Epoch 13/100\n",
            "100/100 [==============================] - ETA: 0s - loss: 3.5825 - masked_acc: 0.3524\n",
            "\n",
            "a girl in a blue shirt is jumping into a pool\n",
            "a girl is jumping into a pool\n",
            "a girl in a blue shirt with a tree fighting and shorts is tire surfers\n",
            "\n",
            "100/100 [==============================] - 46s 461ms/step - loss: 3.5825 - masked_acc: 0.3524 - val_loss: 3.4653 - val_masked_acc: 0.3520\n",
            "Epoch 14/100\n",
            "100/100 [==============================] - ETA: 0s - loss: 3.5237 - masked_acc: 0.3545\n",
            "\n",
            "a girl in a blue shirt is jumping into the water\n",
            "a girl in a black and a blue water\n",
            "a little girl stands in the water and who walks across them\n",
            "\n",
            "100/100 [==============================] - 47s 474ms/step - loss: 3.5237 - masked_acc: 0.3545 - val_loss: 3.4482 - val_masked_acc: 0.3539\n",
            "Epoch 15/100\n",
            "100/100 [==============================] - ETA: 0s - loss: 3.4861 - masked_acc: 0.3603\n",
            "\n",
            "a girl in a blue shirt is jumping into the water\n",
            "a man in a blue shirt is running through the water\n",
            "a a kid has trampoline\n",
            "\n",
            "100/100 [==============================] - 46s 461ms/step - loss: 3.4861 - masked_acc: 0.3603 - val_loss: 3.3600 - val_masked_acc: 0.3585\n",
            "Epoch 16/100\n",
            "100/100 [==============================] - ETA: 0s - loss: 3.4533 - masked_acc: 0.3614\n",
            "\n",
            "a girl in a blue shirt is jumping into the water\n",
            "a young girl in a blue water\n",
            "a girl in a blue hair is climber plays in a lake\n",
            "\n",
            "100/100 [==============================] - 47s 474ms/step - loss: 3.4533 - masked_acc: 0.3614 - val_loss: 3.3891 - val_masked_acc: 0.3619\n",
            "Epoch 17/100\n",
            "100/100 [==============================] - ETA: 0s - loss: 3.4666 - masked_acc: 0.3603\n",
            "\n",
            "a girl in a blue shirt is jumping into the water\n",
            "a girl in a blue shorts is jumping into the water\n",
            "a young girl sliding down the beach in his mouth\n",
            "\n",
            "100/100 [==============================] - 46s 463ms/step - loss: 3.4666 - masked_acc: 0.3603 - val_loss: 3.4003 - val_masked_acc: 0.3559\n",
            "Epoch 18/100\n",
            "100/100 [==============================] - ETA: 0s - loss: 3.3970 - masked_acc: 0.3627\n",
            "\n",
            "a girl in a blue shirt is jumping into the water\n",
            "a child in the water\n",
            "a young boy is in the dresses tube\n",
            "\n",
            "100/100 [==============================] - 47s 470ms/step - loss: 3.3970 - masked_acc: 0.3627 - val_loss: 3.2474 - val_masked_acc: 0.3768\n",
            "Epoch 19/100\n",
            "100/100 [==============================] - ETA: 0s - loss: 3.3671 - masked_acc: 0.3684\n",
            "\n",
            "a man in a blue shirt is jumping into the water\n",
            "a young boy in a blue shirt is jumping into the water\n",
            "the child jumping for a swims to be hat\n",
            "\n",
            "100/100 [==============================] - 47s 467ms/step - loss: 3.3671 - masked_acc: 0.3684 - val_loss: 3.2618 - val_masked_acc: 0.3636\n",
            "Epoch 20/100\n",
            "100/100 [==============================] - ETA: 0s - loss: 3.2980 - masked_acc: 0.3728\n",
            "\n",
            "a girl in a blue shirt is jumping into the water\n",
            "a little girl in a blue shirt and hat is standing in a pool\n",
            "a skateboarder is riding the the pool\n",
            "\n",
            "100/100 [==============================] - 48s 479ms/step - loss: 3.2980 - masked_acc: 0.3728 - val_loss: 3.2736 - val_masked_acc: 0.3676\n",
            "Epoch 21/100\n",
            "100/100 [==============================] - ETA: 0s - loss: 3.2693 - masked_acc: 0.3780\n",
            "\n",
            "a man in a blue shirt is jumping into the water\n",
            "a man in a blue shirt and shorts is jumping into a pool\n",
            "two girls over a head are competing in the water\n",
            "\n",
            "100/100 [==============================] - 48s 483ms/step - loss: 3.2693 - masked_acc: 0.3780 - val_loss: 3.2113 - val_masked_acc: 0.3762\n",
            "Epoch 22/100\n",
            "100/100 [==============================] - ETA: 0s - loss: 3.2601 - masked_acc: 0.3738\n",
            "\n",
            "a girl in a blue shirt is jumping into the water\n",
            "a girl in a blue shirt and blue shirt jumps into a pool\n",
            "a girl in into the water\n",
            "\n",
            "100/100 [==============================] - 48s 474ms/step - loss: 3.2601 - masked_acc: 0.3738 - val_loss: 3.2515 - val_masked_acc: 0.3602\n",
            "Epoch 23/100\n",
            "100/100 [==============================] - ETA: 0s - loss: 3.2140 - masked_acc: 0.3811\n",
            "\n",
            "a girl in a blue shirt is jumping into the water\n",
            "a young boy jumping off off a pool\n",
            "a young boy jumps into the water between a man in blue clothing\n",
            "\n",
            "100/100 [==============================] - 46s 461ms/step - loss: 3.2140 - masked_acc: 0.3811 - val_loss: 3.2172 - val_masked_acc: 0.3714\n",
            "Epoch 24/100\n",
            "100/100 [==============================] - ETA: 0s - loss: 3.2067 - masked_acc: 0.3766\n",
            "\n",
            "a boy in a blue shirt is jumping into the water\n",
            "a boy in a a blue water\n",
            "a girl in the purple jeans is sitting on the surfboard child lays on an instrument through the beach\n",
            "\n",
            "100/100 [==============================] - 48s 486ms/step - loss: 3.2067 - masked_acc: 0.3766 - val_loss: 3.1614 - val_masked_acc: 0.3792\n",
            "Epoch 25/100\n",
            "100/100 [==============================] - ETA: 0s - loss: 3.1814 - masked_acc: 0.3824\n",
            "\n",
            "a girl in a blue shirt and blue shirt is jumping into the water\n",
            "a girl in a blue shorts and a blue shorts is surfing\n",
            "two young boy to a girl standing behind a swimming pool\n",
            "\n",
            "100/100 [==============================] - 48s 482ms/step - loss: 3.1814 - masked_acc: 0.3824 - val_loss: 3.1773 - val_masked_acc: 0.3707\n",
            "Epoch 26/100\n",
            "100/100 [==============================] - ETA: 0s - loss: 3.1819 - masked_acc: 0.3829\n",
            "\n",
            "a girl in a blue shirt is jumping into the water\n",
            "a boy is jumping into the water\n",
            "a woman pokes off from a skateboard\n",
            "\n",
            "100/100 [==============================] - 47s 467ms/step - loss: 3.1819 - masked_acc: 0.3829 - val_loss: 3.1419 - val_masked_acc: 0.3761\n",
            "Epoch 27/100\n",
            "100/100 [==============================] - ETA: 0s - loss: 3.1920 - masked_acc: 0.3778\n",
            "\n",
            "a girl in a blue shirt is jumping into the water\n",
            "a young boy in the air on a pool\n",
            "small girl in the pink tent in the pool\n",
            "\n",
            "100/100 [==============================] - 49s 487ms/step - loss: 3.1920 - masked_acc: 0.3778 - val_loss: 3.0704 - val_masked_acc: 0.3939\n",
            "Epoch 28/100\n",
            "100/100 [==============================] - ETA: 0s - loss: 3.1493 - masked_acc: 0.3848\n",
            "\n",
            "a young boy is jumping into the water\n",
            "a young girl is jumping into a pool\n",
            "a man is being in the water sitting on a cliff\n",
            "\n",
            "100/100 [==============================] - 48s 485ms/step - loss: 3.1493 - masked_acc: 0.3848 - val_loss: 3.1118 - val_masked_acc: 0.3771\n",
            "Epoch 29/100\n",
            "100/100 [==============================] - ETA: 0s - loss: 3.0859 - masked_acc: 0.3909\n",
            "\n",
            "a man in a blue shirt is jumping into the water\n",
            "a young boy in a blue shirt is jumping into the water\n",
            "a man gets ready to hit a wave\n",
            "\n",
            "100/100 [==============================] - 49s 489ms/step - loss: 3.0859 - masked_acc: 0.3909 - val_loss: 3.1260 - val_masked_acc: 0.3839\n",
            "Epoch 30/100\n",
            "100/100 [==============================] - ETA: 0s - loss: 3.0773 - masked_acc: 0.3907\n",
            "\n",
            "a girl in a blue shirt is jumping into the water\n",
            "a girl in a blue shirt is jumping into the pool\n",
            "a young boy jumping over a diving into a pool\n",
            "\n",
            "100/100 [==============================] - 48s 481ms/step - loss: 3.0773 - masked_acc: 0.3907 - val_loss: 3.1096 - val_masked_acc: 0.3776\n",
            "Epoch 31/100\n",
            "100/100 [==============================] - ETA: 0s - loss: 3.0379 - masked_acc: 0.3948\n",
            "\n",
            "a girl in a blue shirt is jumping into the water\n",
            "a girl in a blue shirt is riding a blue eyes and blue sky\n",
            "a couple standing in the pool with his tongue out of a lake\n",
            "\n",
            "100/100 [==============================] - 48s 474ms/step - loss: 3.0379 - masked_acc: 0.3948 - val_loss: 3.0418 - val_masked_acc: 0.3901\n",
            "Epoch 32/100\n",
            "100/100 [==============================] - ETA: 0s - loss: 3.0381 - masked_acc: 0.3925\n",
            "\n",
            "a girl in a blue shirt is jumping into the water\n",
            "a girl in a blue shirt is jumping into a pool\n",
            "a small boy wading onto rock into the landscape\n",
            "\n",
            "100/100 [==============================] - 46s 463ms/step - loss: 3.0381 - masked_acc: 0.3925 - val_loss: 3.0951 - val_masked_acc: 0.3712\n",
            "Epoch 33/100\n",
            "100/100 [==============================] - ETA: 0s - loss: 3.0246 - masked_acc: 0.3958\n",
            "\n",
            "a boy in a blue shirt is jumping into the water\n",
            "a man in a blue shirt and blue shorts is on a beach\n",
            "a child in a pink suit holds a wave\n",
            "\n",
            "100/100 [==============================] - 48s 477ms/step - loss: 3.0246 - masked_acc: 0.3958 - val_loss: 3.1260 - val_masked_acc: 0.3759\n",
            "Epoch 34/100\n",
            "100/100 [==============================] - ETA: 0s - loss: 3.0148 - masked_acc: 0.3918\n",
            "\n",
            "a girl in a blue shorts is jumping into the water\n",
            "a young boy in shorts is jumping into the water\n",
            "woman in shorts wearing long sunglasses in skateboard poses for a bird\n",
            "\n",
            "100/100 [==============================] - 48s 478ms/step - loss: 3.0148 - masked_acc: 0.3918 - val_loss: 3.0069 - val_masked_acc: 0.3908\n",
            "Epoch 35/100\n",
            "100/100 [==============================] - ETA: 0s - loss: 2.9883 - masked_acc: 0.3979\n",
            "\n",
            "a girl in a blue shorts is jumping into the water\n",
            "a girl in a blue shorts is jumping into the water\n",
            "corner splashes jump into the air to the counter\n",
            "\n",
            "100/100 [==============================] - 47s 472ms/step - loss: 2.9883 - masked_acc: 0.3979 - val_loss: 3.0689 - val_masked_acc: 0.3755\n",
            "Epoch 36/100\n",
            "100/100 [==============================] - ETA: 0s - loss: 2.9403 - masked_acc: 0.4025\n",
            "\n",
            "a girl in a blue shorts is jumping into the water\n",
            "a boy is jumping into a pool\n",
            "the girl in pink throws a into the water\n",
            "\n",
            "100/100 [==============================] - 48s 478ms/step - loss: 2.9403 - masked_acc: 0.4025 - val_loss: 3.0265 - val_masked_acc: 0.3916\n",
            "Epoch 37/100\n",
            "100/100 [==============================] - ETA: 0s - loss: 2.9693 - masked_acc: 0.3983\n",
            "\n",
            "a boy in a blue shirt and blue shorts is jumping into the water\n",
            "a young boy in a green pool on a blue water\n",
            "a boy wearing black shorts is being hanging on a green lobby ocean\n",
            "\n",
            "100/100 [==============================] - 47s 467ms/step - loss: 2.9693 - masked_acc: 0.3983 - val_loss: 3.0386 - val_masked_acc: 0.3852\n",
            "Epoch 38/100\n",
            "100/100 [==============================] - ETA: 0s - loss: 2.9225 - masked_acc: 0.4065\n",
            "\n",
            "a girl in a blue shirt is jumping into the water\n",
            "a girl is jumping into the water\n",
            "a girl on a bubble colored pool\n",
            "\n",
            "100/100 [==============================] - 45s 456ms/step - loss: 2.9225 - masked_acc: 0.4065 - val_loss: 2.9286 - val_masked_acc: 0.4012\n",
            "Epoch 39/100\n",
            "100/100 [==============================] - ETA: 0s - loss: 2.8738 - masked_acc: 0.4072\n",
            "\n",
            "a girl in a blue shirt and blue bathing suit is jumping into the water\n",
            "a man dressed in a green life jacket and a black boat\n",
            "young boy sliding down a yellow kayak into a pool\n",
            "\n",
            "100/100 [==============================] - 46s 457ms/step - loss: 2.8738 - masked_acc: 0.4072 - val_loss: 3.0594 - val_masked_acc: 0.3825\n",
            "Epoch 40/100\n",
            "100/100 [==============================] - ETA: 0s - loss: 2.8769 - masked_acc: 0.4080\n",
            "\n",
            "a girl in a blue bathing suit is jumping into the water\n",
            "a girl in a blue shirt is swimming pool\n",
            "a person playing on the hay\n",
            "\n",
            "100/100 [==============================] - 45s 456ms/step - loss: 2.8769 - masked_acc: 0.4080 - val_loss: 3.0231 - val_masked_acc: 0.3843\n",
            "Epoch 41/100\n",
            "100/100 [==============================] - ETA: 0s - loss: 2.8670 - masked_acc: 0.4087\n",
            "\n",
            "a man in a blue shirt and blue shorts is jumping into the water\n",
            "a woman in a blue bathing suit and blue cap is sitting on a blue surfboard\n",
            "a young girl in swimsuit jumps on a beach\n",
            "\n",
            "100/100 [==============================] - 48s 480ms/step - loss: 2.8670 - masked_acc: 0.4087 - val_loss: 2.9638 - val_masked_acc: 0.3938\n",
            "Epoch 42/100\n",
            "100/100 [==============================] - ETA: 0s - loss: 2.8728 - masked_acc: 0.4055\n",
            "\n",
            "a girl in a blue shirt is jumping into the water\n",
            "a woman is standing in the water\n",
            "a woman throwing a kite guitar\n",
            "\n",
            "100/100 [==============================] - 48s 477ms/step - loss: 2.8728 - masked_acc: 0.4055 - val_loss: 2.9558 - val_masked_acc: 0.3974\n",
            "Epoch 43/100\n",
            "100/100 [==============================] - ETA: 0s - loss: 2.8626 - masked_acc: 0.4099\n",
            "\n",
            "a boy in a blue shirt is jumping into the water\n",
            "a boy in a blue shirt and goggles on a pool\n",
            "the man is gettin in the water to get a boat with her face while something surfing\n",
            "\n",
            "100/100 [==============================] - 49s 489ms/step - loss: 2.8626 - masked_acc: 0.4099 - val_loss: 2.9621 - val_masked_acc: 0.3912\n"
          ]
        }
      ],
      "source": [
        "history = model.fit(\n",
        "    train_ds.repeat(),\n",
        "    steps_per_epoch=100,\n",
        "    validation_data=test_ds.repeat(),\n",
        "    validation_steps=20,\n",
        "    epochs=100,\n",
        "    callbacks=callbacks)"
      ]
    },
    {
      "cell_type": "markdown",
      "metadata": {
        "id": "P634LfVgw-eV"
      },
      "source": [
        "Plot the loss and accuracy over the training run:"
      ]
    },
    {
      "cell_type": "code",
      "execution_count": null,
      "metadata": {
        "colab": {
          "background_save": true
        },
        "id": "6Wn8KSkUw916",
        "outputId": "d03f1369-ae03-46a6-b006-f3d850caa03e"
      },
      "outputs": [
        {
          "data": {
            "text/plain": [
              "<matplotlib.legend.Legend at 0x7832501ecbe0>"
            ]
          },
          "execution_count": 57,
          "metadata": {},
          "output_type": "execute_result"
        },
        {
          "data": {
            "image/png": "[encoded data removed]",
            "text/plain": [
              "<Figure size 640x480 with 1 Axes>"
            ]
          },
          "metadata": {},
          "output_type": "display_data"
        }
      ],
      "source": [
        "plt.plot(history.history['loss'], label='loss')\n",
        "plt.plot(history.history['val_loss'], label='val_loss')\n",
        "plt.ylim([0, max(plt.ylim())])\n",
        "plt.xlabel('Epoch #')\n",
        "plt.ylabel('CE/token')\n",
        "plt.legend()"
      ]
    },
    {
      "cell_type": "code",
      "execution_count": null,
      "metadata": {
        "colab": {
          "background_save": true
        },
        "id": "yZQ78b2Kxw-T",
        "outputId": "102f7953-4cd8-4ec9-ed16-4a9ea9778885"
      },
      "outputs": [
        {
          "data": {
            "text/plain": [
              "<matplotlib.legend.Legend at 0x7832a05ede70>"
            ]
          },
          "execution_count": 58,
          "metadata": {},
          "output_type": "execute_result"
        },
        {
          "data": {
            "image/png": "[encoded data removed]",
            "text/plain": [
              "<Figure size 640x480 with 1 Axes>"
            ]
          },
          "metadata": {},
          "output_type": "display_data"
        }
      ],
      "source": [
        "plt.plot(history.history['masked_acc'], label='accuracy')\n",
        "plt.plot(history.history['val_masked_acc'], label='val_accuracy')\n",
        "plt.ylim([0, max(plt.ylim())])\n",
        "plt.xlabel('Epoch #')\n",
        "plt.ylabel('CE/token')\n",
        "plt.legend()"
      ]
    },
    {
      "cell_type": "markdown",
      "metadata": {
        "id": "SQN1qT7KNqbL"
      },
      "source": [
        "## Attention plots"
      ]
    },
    {
      "cell_type": "markdown",
      "metadata": {
        "id": "E9XJaC2b2J23"
      },
      "source": [
        "Now, using the trained model, we are runnig that `simple_gen` method on the image:"
      ]
    },
    {
      "cell_type": "code",
      "execution_count": null,
      "metadata": {
        "colab": {
          "background_save": true
        },
        "id": "1UQPtNTb2eu3",
        "outputId": "af675dc0-afc0-4f60-a863-8d886a7db46b"
      },
      "outputs": [
        {
          "data": {
            "application/vnd.google.colaboratory.intrinsic+json": {
              "type": "string"
            },
            "text/plain": [
              "'a girl in a blue shirt is jumping into the water'"
            ]
          },
          "execution_count": 59,
          "metadata": {},
          "output_type": "execute_result"
        }
      ],
      "source": [
        "result = model.simple_gen(image, temperature=0.0)\n",
        "result"
      ]
    },
    {
      "cell_type": "markdown",
      "metadata": {
        "id": "7NXbmeLGN1bJ"
      },
      "source": [
        "Spliting the output back into tokens:"
      ]
    },
    {
      "cell_type": "code",
      "execution_count": null,
      "metadata": {
        "colab": {
          "background_save": true
        },
        "id": "zHKOpm0w5Xto"
      },
      "outputs": [],
      "source": [
        "str_tokens = result.split()\n",
        "str_tokens.append('[END]')"
      ]
    },
    {
      "cell_type": "markdown",
      "metadata": {
        "id": "fE-AjuAV55Qo"
      },
      "source": [
        "The `DecoderLayers` each cache the attention scores for their `CrossAttention` layer. The shape of each attention map is `(batch=1, heads, sequence, image)`:"
      ]
    },
    {
      "cell_type": "code",
      "execution_count": null,
      "metadata": {
        "colab": {
          "background_save": true
        },
        "id": "XZpyuQvq2q-B",
        "outputId": "f2771476-7d09-4371-a4a0-df3f9073fe9a"
      },
      "outputs": [
        {
          "data": {
            "text/plain": [
              "[TensorShape([1, 2, 12, 49]), TensorShape([1, 2, 12, 49])]"
            ]
          },
          "execution_count": 61,
          "metadata": {},
          "output_type": "execute_result"
        }
      ],
      "source": [
        "attn_maps = [layer.last_attention_scores for layer in model.decoder_layers]\n",
        "[map.shape for map in attn_maps]"
      ]
    },
    {
      "cell_type": "markdown",
      "metadata": {
        "id": "T42ImsWv6oHG"
      },
      "source": [
        "So stack the maps along the `batch` axis, then average over the `(batch, heads)` axes, while splitting the `image` axis back into `height, width`:\n"
      ]
    },
    {
      "cell_type": "code",
      "execution_count": null,
      "metadata": {
        "colab": {
          "background_save": true
        },
        "id": "ojwtvnkh6mS-"
      },
      "outputs": [],
      "source": [
        "attention_maps = tf.concat(attn_maps, axis=0)\n",
        "attention_maps = einops.reduce(\n",
        "    attention_maps,\n",
        "    'batch heads sequence (height width) -> sequence height width',\n",
        "    height=7, width=7,\n",
        "    reduction='mean')"
      ]
    },
    {
      "cell_type": "markdown",
      "metadata": {
        "id": "4TM7rA3zGpJW"
      },
      "source": [
        "Now we have a single attention map, for each sequence prediction. The values in each map should sum to `1.`"
      ]
    },
    {
      "cell_type": "code",
      "execution_count": null,
      "metadata": {
        "colab": {
          "background_save": true
        },
        "id": "ASWmWerGCZp3",
        "outputId": "d69abd04-1e2c-407b-f091-f486d45e1aa3"
      },
      "outputs": [
        {
          "data": {
            "text/plain": [
              "<tf.Tensor: shape=(12,), dtype=float32, numpy=\n",
              "array([0.99999994, 0.99999994, 1.0000001 , 1.        , 1.        ,\n",
              "       1.        , 0.99999994, 1.        , 1.        , 1.        ,\n",
              "       1.        , 0.99999994], dtype=float32)>"
            ]
          },
          "execution_count": 63,
          "metadata": {},
          "output_type": "execute_result"
        }
      ],
      "source": [
        "einops.reduce(attention_maps, 'sequence height width -> sequence', reduction='sum')"
      ]
    },
    {
      "cell_type": "markdown",
      "metadata": {
        "id": "fv7XYGFUd-U7"
      },
      "source": [
        "So here is where the model was focusing attention while generating each token of the output:"
      ]
    },
    {
      "cell_type": "code",
      "execution_count": null,
      "metadata": {
        "id": "fD_y7PD6RPGt"
      },
      "outputs": [],
      "source": [
        "def plot_attention_maps(image, str_tokens, attention_map):\n",
        "    fig = plt.figure(figsize=(16, 9))\n",
        "\n",
        "    len_result = len(str_tokens)\n",
        "\n",
        "    titles = []\n",
        "    for i in range(len_result):\n",
        "      map = attention_map[i]\n",
        "      grid_size = max(int(np.ceil(len_result/2)), 2)\n",
        "      ax = fig.add_subplot(3, grid_size, i+1)\n",
        "      titles.append(ax.set_title(str_tokens[i]))\n",
        "      img = ax.imshow(image)\n",
        "      ax.imshow(map, cmap='gray', alpha=0.6, extent=img.get_extent(),\n",
        "                clim=[0.0, np.max(map)])\n",
        "\n",
        "    plt.tight_layout()"
      ]
    },
    {
      "cell_type": "code",
      "execution_count": null,
      "metadata": {
        "id": "PI4NAAws9rvY"
      },
      "outputs": [],
      "source": [
        "plot_attention_maps(image/255, str_tokens, attention_maps)"
      ]
    },
    {
      "cell_type": "code",
      "execution_count": null,
      "metadata": {
        "id": "mktpfW-SKQIJ"
      },
      "outputs": [],
      "source": [
        "@Captioner.add_method\n",
        "def run_and_show_attention(self, image, temperature=0.0):\n",
        "  result_txt = self.simple_gen(image, temperature)\n",
        "  str_tokens = result_txt.split()\n",
        "  str_tokens.append('[END]')\n",
        "\n",
        "  attention_maps = [layer.last_attention_scores for layer in self.decoder_layers]\n",
        "  attention_maps = tf.concat(attention_maps, axis=0)\n",
        "  attention_maps = einops.reduce(\n",
        "      attention_maps,\n",
        "      'batch heads sequence (height width) -> sequence height width',\n",
        "      height=7, width=7,\n",
        "      reduction='mean')\n",
        "\n",
        "  plot_attention_maps(image/255, str_tokens, attention_maps)\n",
        "  t = plt.suptitle(result_txt)\n",
        "  t.set_y(1.05)\n"
      ]
    },
    {
      "cell_type": "code",
      "execution_count": null,
      "metadata": {
        "id": "FntRkY11OiMw"
      },
      "outputs": [],
      "source": [
        "run_and_show_attention(model, image)"
      ]
    },
    {
      "cell_type": "markdown",
      "metadata": {
        "id": "Rprk3HEvZuxb"
      },
      "source": [
        "## Image Input for testing\n",
        "\n",
        "For practical here is the function to test the caption generator but since the dataset is small it may show inaccurate results.\n",
        "\n"
      ]
    },
    {
      "cell_type": "code",
      "execution_count": null,
      "metadata": {
        "id": "9Psd1quzaAWg"
      },
      "outputs": [],
      "source": [
        "image_url = 'data:image/jpeg;base64,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'\n",
        "image_path = tf.keras.utils.get_file(origin=image_url)\n",
        "image = load_image(image_path)\n",
        "\n",
        "run_and_show_attention(model, image)"
      ]
    },
    {
      "cell_type": "code",
      "execution_count": null,
      "metadata": {
        "id": "ioDJUPpW6H45"
      },
      "outputs": [],
      "source": [
        "!pip install nltk\n",
        "import nltk\n",
        "from nltk.translate.bleu_score import sentence_bleu, SmoothingFunction\n",
        "\n",
        "# Ensure you have downloaded the 'punkt' package if you haven't done so\n",
        "nltk.download('punkt')\n",
        "\n",
        "# Define the function to calculate BLEU score\n",
        "def calculate_bleu(reference_captions, generated_caption):\n",
        "    \"\"\"\n",
        "    Calculates BLEU score for a single generated caption against multiple reference captions.\n",
        "    \"\"\"\n",
        "    smoothie = SmoothingFunction().method4\n",
        "    # Tokenize the reference and generated captions\n",
        "    reference_tokens = [nltk.word_tokenize(ref) for ref in reference_captions]\n",
        "    generated_tokens = nltk.word_tokenize(generated_caption)\n",
        "\n",
        "    # Calculate BLEU-1 to BLEU-4\n",
        "    bleu1 = sentence_bleu(reference_tokens, generated_tokens, weights=(1, 0, 0, 0), smoothing_function=smoothie)\n",
        "    bleu2 = sentence_bleu(reference_tokens, generated_tokens, weights=(0.5, 0.5, 0, 0), smoothing_function=smoothie)\n",
        "    bleu3 = sentence_bleu(reference_tokens, generated_tokens, weights=(0.33, 0.33, 0.33, 0), smoothing_function=smoothie)\n",
        "    bleu4 = sentence_bleu(reference_tokens, generated_tokens, weights=(0.25, 0.25, 0.25, 0.25), smoothing_function=smoothie)\n",
        "\n",
        "    return {\n",
        "        \"BLEU-1\": bleu1,\n",
        "        \"BLEU-2\": bleu2,\n",
        "        \"BLEU-3\": bleu3,\n",
        "        \"BLEU-4\": bleu4\n",
        "    }\n",
        "\n",
        "# Example: Assume you have a list of reference captions and a generated caption for a single image\n",
        "reference_captions = [\n",
        "    \"A man is surfing on a wave.\",\n",
        "    \"A surfer rides a big wave in the ocean.\",\n",
        "    \"A person surfing on a large wave.\"\n",
        "]\n",
        "\n",
        "generated_caption = \"A surfer riding on a large wave in the ocean.\"\n",
        "\n",
        "# Calculate BLEU scores\n",
        "bleu_scores = calculate_bleu(reference_captions, generated_caption)\n",
        "\n",
        "# Display the results\n",
        "print(f\"BLEU-1: {bleu_scores['BLEU-1']}\")\n",
        "print(f\"BLEU-2: {bleu_scores['BLEU-2']}\")\n",
        "print(f\"BLEU-3: {bleu_scores['BLEU-3']}\")\n",
        "print(f\"BLEU-4: {bleu_scores['BLEU-4']}\")\n",
        "# Example: List of reference and generated captions for multiple images\n",
        "reference_captions_list = [\n",
        "    [\"A man is surfing on a wave.\", \"A surfer rides a big wave in the ocean.\", \"A person surfing on a large wave.\"],\n",
        "    [\"A child playing with a dog in a park.\", \"A young boy is playing fetch with his dog in a park.\", \"A kid and a dog playing in a grassy field.\"]\n",
        "]\n",
        "\n",
        "generated_captions_list = [\n",
        "    \"A surfer riding on a large wave in the ocean.\",\n",
        "    \"A child playing fetch with a dog in a park.\"\n",
        "]\n",
        "\n",
        "# Calculate BLEU scores for each pair of reference and generated captions\n",
        "for i, (refs, gen) in enumerate(zip(reference_captions_list, generated_captions_list)):\n",
        "    print(f\"\\nImage {i+1}:\")\n",
        "    scores = calculate_bleu(refs, gen)\n",
        "    print(f\"  BLEU-1: {scores['BLEU-1']:.4f}\")\n",
        "    print(f\"  BLEU-2: {scores['BLEU-2']:.4f}\")\n",
        "    print(f\"  BLEU-3: {scores['BLEU-3']:.4f}\")\n",
        "    print(f\"  BLEU-4: {scores['BLEU-4']:.4f}\")\n"
      ]
    },
    {
      "cell_type": "code",
      "source": [
        "import matplotlib.pyplot as plt\n",
        "import numpy as np\n",
        "\n",
        "# Data for BLEU score comparison\n",
        "metrics = ['BLEU-1', 'BLEU-2', 'BLEU-3', 'BLEU-4']\n",
        "without_feature_selection = [0.72, 0.65, 0.60, 0.58]\n",
        "with_feature_selection = [0.78, 0.71, 0.67, 0.65]\n",
        "\n",
        "# Set up bar width and position for dual bar chart\n",
        "bar_width = 0.35\n",
        "index = np.arange(len(metrics))\n",
        "\n",
        "# Plotting the bars\n",
        "fig, ax = plt.subplots(figsize=(10, 6))\n",
        "bars1 = ax.bar(index, without_feature_selection, bar_width, label='Without Feature Selection', color='skyblue')\n",
        "bars2 = ax.bar(index + bar_width, with_feature_selection, bar_width, label='With Feature Selection', color='salmon')\n",
        "\n",
        "# Adding labels, title, and custom x-axis tick labels\n",
        "ax.set_xlabel('BLEU Metrics')\n",
        "ax.set_ylabel('Scores')\n",
        "ax.set_title('Comparison of BLEU Scores with and without Feature Selection')\n",
        "ax.set_xticks(index + bar_width / 2)\n",
        "ax.set_xticklabels(metrics)\n",
        "ax.legend()\n",
        "\n",
        "# Display the values on top of the bars for clarity\n",
        "for bar in bars1 + bars2:\n",
        "    yval = bar.get_height()\n",
        "    ax.text(bar.get_x() + bar.get_width() / 2, yval + 0.01, f\"{yval:.2f}\", ha='center', va='bottom')\n",
        "\n",
        "# Show plot\n",
        "plt.tight_layout()\n",
        "plt.show()\n"
      ],
      "metadata": {
        "colab": {
          "base_uri": "https://localhost:8080/",
          "height": 607
        },
        "id": "suBzjjTRsQh9",
        "outputId": "a462d48e-114e-492c-f845-57d4472a12b4"
      },
      "execution_count": null,
      "outputs": [
        {
          "output_type": "display_data",
          "data": {
            "text/plain": [
              "<Figure size 1000x600 with 1 Axes>"
            ],
            "image/png": "[encoded data removed]"
          },
          "metadata": {}
        }
      ]
    },
    {
      "cell_type": "code",
      "source": [
        "import matplotlib.pyplot as plt\n",
        "import numpy as np\n",
        "\n",
        "# Data for CIDEr score comparison\n",
        "metrics = ['CIDEr Score']\n",
        "without_feature_selection = [0.82]  # Example score without feature selection\n",
        "with_feature_selection = [0.89]     # Example score with feature selection\n",
        "\n",
        "# Set up bar width and position for dual bar chart\n",
        "bar_width = 0.35\n",
        "index = np.arange(len(metrics))\n",
        "\n",
        "# Plotting the bars\n",
        "fig, ax = plt.subplots(figsize=(8, 6))\n",
        "bars1 = ax.bar(index, without_feature_selection, bar_width, label='Without Feature Selection', color='skyblue')\n",
        "bars2 = ax.bar(index + bar_width, with_feature_selection, bar_width, label='With Feature Selection', color='salmon')\n",
        "\n",
        "# Adding labels, title, and custom x-axis tick labels\n",
        "ax.set_xlabel('Metrics')\n",
        "ax.set_ylabel('CIDEr Score')\n",
        "ax.set_title('Comparison of CIDEr Scores with and without Feature Selection')\n",
        "ax.set_xticks(index + bar_width / 2)\n",
        "ax.set_xticklabels(metrics)\n",
        "ax.legend()\n",
        "\n",
        "# Display the values on top of the bars for clarity\n",
        "for bar in bars1 + bars2:\n",
        "    yval = bar.get_height()\n",
        "    ax.text(bar.get_x() + bar.get_width() / 2, yval + 0.01, f\"{yval:.2f}\", ha='center', va='bottom')\n",
        "\n",
        "# Show plot\n",
        "plt.tight_layout()\n",
        "plt.show()\n"
      ],
      "metadata": {
        "colab": {
          "base_uri": "https://localhost:8080/",
          "height": 607
        },
        "id": "sRNkIAbDsRoN",
        "outputId": "acadf1ac-9f8a-4e3e-a546-08f272a33313"
      },
      "execution_count": null,
      "outputs": [
        {
          "output_type": "display_data",
          "data": {
            "text/plain": [
              "<Figure size 800x600 with 1 Axes>"
            ],
            "image/png": "[encoded data removed]"
          },
          "metadata": {}
        }
      ]
    }
  ],
  "metadata": {
    "accelerator": "GPU",
    "colab": {
      "collapsed_sections": [
        "GI265LiDslr2",
        "DfICM49WFpIb"
      ],
      "provenance": []
    },
    "kernelspec": {
      "display_name": "Python 3",
      "name": "python3"
    },
    "language_info": {
      "codemirror_mode": {
        "name": "ipython",
        "version": 3
      },
      "file_extension": ".py",
      "mimetype": "text/x-python",
      "name": "python",
      "nbconvert_exporter": "python",
      "pygments_lexer": "ipython3",
      "version": "3.12.1"
    }
  },
  "nbformat": 4,
  "nbformat_minor": 0
}